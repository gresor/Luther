{
 "cells": [
  {
   "cell_type": "markdown",
   "metadata": {},
   "source": [
    "make a dictionary for inflation rates based of the information from the wolfram alpha api"
   ]
  },
  {
   "cell_type": "code",
   "execution_count": 1,
   "metadata": {
    "collapsed": false
   },
   "outputs": [],
   "source": [
    "import creds #api cridenttials for wolfram\n",
    "import datetime\n",
    "\n",
    "import wolframalpha"
   ]
  },
  {
   "cell_type": "code",
   "execution_count": 2,
   "metadata": {
    "collapsed": false
   },
   "outputs": [],
   "source": [
    "import dateutil.parser\n",
    "import numpy as np\n",
    "import pickle"
   ]
  },
  {
   "cell_type": "code",
   "execution_count": 3,
   "metadata": {
    "collapsed": false
   },
   "outputs": [],
   "source": [
    "client = wolframalpha.Client(creds.apikey)"
   ]
  },
  {
   "cell_type": "code",
   "execution_count": 5,
   "metadata": {
    "collapsed": false
   },
   "outputs": [],
   "source": [
    "def question(q):\n",
    "    res = client.query(q)\n",
    "    answer = next(res.results).text \n",
    "    return answer"
   ]
  },
  {
   "cell_type": "code",
   "execution_count": 25,
   "metadata": {
    "collapsed": false
   },
   "outputs": [],
   "source": [
    "res = client.query('GDP of the US in 1997')"
   ]
  },
  {
   "cell_type": "code",
   "execution_count": 14,
   "metadata": {
    "collapsed": false
   },
   "outputs": [
    {
     "name": "stdout",
     "output_type": "stream",
     "text": [
      "1.3382\n"
     ]
    }
   ],
   "source": [
    "m = float(next(res.results).text.split('$')[1].split(' ')[0])/100.0\n",
    "# this gets a float that is the multiplyter to do the inflation adustment\n",
    "# to 2015\n",
    "print m"
   ]
  },
  {
   "cell_type": "code",
   "execution_count": 61,
   "metadata": {
    "collapsed": false
   },
   "outputs": [],
   "source": [
    "res = client.query(q)"
   ]
  },
  {
   "cell_type": "code",
   "execution_count": 62,
   "metadata": {
    "collapsed": false
   },
   "outputs": [
    {
     "name": "stdout",
     "output_type": "stream",
     "text": [
      "100 dollars from 2014 value today\n"
     ]
    }
   ],
   "source": [
    "print q"
   ]
  },
  {
   "cell_type": "code",
   "execution_count": 63,
   "metadata": {
    "collapsed": false
   },
   "outputs": [
    {
     "data": {
      "text/plain": [
       "[<wolframalpha.Pod at 0x7f874aea8310>,\n",
       " <wolframalpha.Pod at 0x7f874aeed750>,\n",
       " <wolframalpha.Pod at 0x7f874aeed6d0>,\n",
       " <wolframalpha.Pod at 0x7f874aeed190>,\n",
       " <wolframalpha.Pod at 0x7f874aeed1d0>]"
      ]
     },
     "execution_count": 63,
     "metadata": {},
     "output_type": "execute_result"
    }
   ],
   "source": [
    "res.pods"
   ]
  },
  {
   "cell_type": "code",
   "execution_count": 53,
   "metadata": {
    "collapsed": false
   },
   "outputs": [],
   "source": [
    "years = range(1900,2015)"
   ]
  },
  {
   "cell_type": "code",
   "execution_count": 30,
   "metadata": {
    "collapsed": false
   },
   "outputs": [
    {
     "data": {
      "text/plain": [
       "int"
      ]
     },
     "execution_count": 30,
     "metadata": {},
     "output_type": "execute_result"
    }
   ],
   "source": [
    "type(dateutil.parser.parse(str(years[3])).year)"
   ]
  },
  {
   "cell_type": "code",
   "execution_count": 54,
   "metadata": {
    "collapsed": false
   },
   "outputs": [
    {
     "name": "stdout",
     "output_type": "stream",
     "text": [
      "100 dollars from 1900 value today\n",
      "100 dollars from 1901 value today\n",
      "100 dollars from 1902 value today\n",
      "100 dollars from 1903 value today\n",
      "100 dollars from 1904 value today\n",
      "100 dollars from 1905 value today\n",
      "100 dollars from 1906 value today\n",
      "100 dollars from 1907 value today\n",
      "100 dollars from 1908 value today\n",
      "100 dollars from 1909 value today\n",
      "100 dollars from 1910 value today\n",
      "100 dollars from 1911 value today\n",
      "100 dollars from 1912 value today\n",
      "100 dollars from 1913 value today\n",
      "100 dollars from 1914 value today\n",
      "100 dollars from 1915 value today\n",
      "100 dollars from 1916 value today\n",
      "100 dollars from 1917 value today\n",
      "100 dollars from 1918 value today\n",
      "100 dollars from 1919 value today\n",
      "100 dollars from 1920 value today\n",
      "100 dollars from 1921 value today\n",
      "100 dollars from 1922 value today\n",
      "100 dollars from 1923 value today\n",
      "100 dollars from 1924 value today\n",
      "100 dollars from 1925 value today\n",
      "100 dollars from 1926 value today\n",
      "100 dollars from 1927 value today\n",
      "100 dollars from 1928 value today\n",
      "100 dollars from 1929 value today\n",
      "100 dollars from 1930 value today\n",
      "100 dollars from 1931 value today\n",
      "100 dollars from 1932 value today\n",
      "100 dollars from 1933 value today\n",
      "100 dollars from 1934 value today\n",
      "100 dollars from 1935 value today\n",
      "100 dollars from 1936 value today\n",
      "100 dollars from 1937 value today\n",
      "100 dollars from 1938 value today\n",
      "100 dollars from 1939 value today\n",
      "100 dollars from 1940 value today\n",
      "100 dollars from 1941 value today\n",
      "100 dollars from 1942 value today\n",
      "100 dollars from 1943 value today\n",
      "100 dollars from 1944 value today\n",
      "100 dollars from 1945 value today\n",
      "100 dollars from 1946 value today\n",
      "100 dollars from 1947 value today\n",
      "100 dollars from 1948 value today\n",
      "100 dollars from 1949 value today\n",
      "100 dollars from 1950 value today\n",
      "100 dollars from 1951 value today\n",
      "100 dollars from 1952 value today\n",
      "100 dollars from 1953 value today\n",
      "100 dollars from 1954 value today\n",
      "100 dollars from 1955 value today\n",
      "100 dollars from 1956 value today\n",
      "100 dollars from 1957 value today\n",
      "100 dollars from 1958 value today\n",
      "100 dollars from 1959 value today\n",
      "100 dollars from 1960 value today\n",
      "100 dollars from 1961 value today\n",
      "100 dollars from 1962 value today\n",
      "100 dollars from 1963 value today\n",
      "100 dollars from 1964 value today\n",
      "100 dollars from 1965 value today\n",
      "100 dollars from 1966 value today\n",
      "100 dollars from 1967 value today\n",
      "100 dollars from 1968 value today\n",
      "100 dollars from 1969 value today\n",
      "100 dollars from 1970 value today\n",
      "100 dollars from 1971 value today\n",
      "100 dollars from 1972 value today\n",
      "100 dollars from 1973 value today\n",
      "100 dollars from 1974 value today\n",
      "100 dollars from 1975 value today\n",
      "100 dollars from 1976 value today\n",
      "100 dollars from 1977 value today\n",
      "100 dollars from 1978 value today\n",
      "100 dollars from 1979 value today\n",
      "100 dollars from 1980 value today\n",
      "100 dollars from 1981 value today\n",
      "100 dollars from 1982 value today\n",
      "100 dollars from 1983 value today\n",
      "100 dollars from 1984 value today\n",
      "100 dollars from 1985 value today\n",
      "100 dollars from 1986 value today\n",
      "100 dollars from 1987 value today\n",
      "100 dollars from 1988 value today\n",
      "100 dollars from 1989 value today\n",
      "100 dollars from 1990 value today\n",
      "100 dollars from 1991 value today\n",
      "100 dollars from 1992 value today\n",
      "100 dollars from 1993 value today\n",
      "100 dollars from 1994 value today\n",
      "100 dollars from 1995 value today\n",
      "100 dollars from 1996 value today\n",
      "100 dollars from 1997 value today\n",
      "100 dollars from 1998 value today\n",
      "100 dollars from 1999 value today\n",
      "100 dollars from 2000 value today\n",
      "100 dollars from 2001 value today\n",
      "100 dollars from 2002 value today\n",
      "100 dollars from 2003 value today\n",
      "100 dollars from 2004 value today\n",
      "100 dollars from 2005 value today\n",
      "100 dollars from 2006 value today\n",
      "100 dollars from 2007 value today\n",
      "100 dollars from 2008 value today\n",
      "100 dollars from 2009 value today\n",
      "100 dollars from 2010 value today\n",
      "100 dollars from 2011 value today\n",
      "100 dollars from 2012 value today\n",
      "100 dollars from 2013 value today\n",
      "100 dollars from 2014 value today\n"
     ]
    }
   ],
   "source": [
    "inflation =[]\n",
    "for year in years:\n",
    "    q = '100 dollars from ' + str(year) + ' value today'\n",
    "    print q\n",
    "    res = client.query(q)\n",
    "    try:\n",
    "        multiplyer = float(next(res.results).text.split('$')[1].split(' ')[0])/100.0\n",
    "    except:\n",
    "        multiplyer = (np.nan,res)\n",
    "    inflation.append((year,multiplyer))"
   ]
  },
  {
   "cell_type": "markdown",
   "metadata": {},
   "source": [
    "there are some errors with the api calls so some years have nans for there inflation adjustment, I then just re-ran the api keys for those years to fill in the missing values"
   ]
  },
  {
   "cell_type": "code",
   "execution_count": 55,
   "metadata": {
    "collapsed": false
   },
   "outputs": [
    {
     "data": {
      "text/plain": [
       "[(1900, 29.5709),\n",
       " (1901, 29.212),\n",
       " (1902, 28.8618),\n",
       " (1903, 28.218899999999998),\n",
       " (1904, 27.8919),\n",
       " (1905, 28.218899999999998),\n",
       " (1906, 27.604),\n",
       " (1907, 26.4223),\n",
       " (1908, 26.985100000000003),\n",
       " (1909, 27.291),\n",
       " (1910, 26.1354),\n",
       " (1911, 26.1354),\n",
       " (1912, 25.6071),\n",
       " (1913, 24.3548),\n",
       " (1914, 24.0306),\n",
       " (1915, (nan, <wolframalpha.Result at 0x7f874aeed950>)),\n",
       " (1916, 22.116999999999997),\n",
       " (1917, 18.7686),\n",
       " (1918, 16.0027),\n",
       " (1919, 13.8869),\n",
       " (1920, 12.010299999999999),\n",
       " (1921, 13.485),\n",
       " (1922, (nan, <wolframalpha.Result at 0x7f874aef45d0>)),\n",
       " (1923, 14.1177),\n",
       " (1924, 14.0559),\n",
       " (1925, 13.722000000000001),\n",
       " (1926, 13.599300000000001),\n",
       " (1927, 13.866900000000001),\n",
       " (1928, 14.028599999999999),\n",
       " (1929, 14.028599999999999),\n",
       " (1930, (nan, <wolframalpha.Result at 0x7f874aea03d0>)),\n",
       " (1931, 15.827300000000001),\n",
       " (1932, 17.645),\n",
       " (1933, 18.6114),\n",
       " (1934, 17.985599999999998),\n",
       " (1935, 17.5379),\n",
       " (1936, 17.3587),\n",
       " (1937, 16.7351),\n",
       " (1938, 17.081500000000002),\n",
       " (1939, (nan, <wolframalpha.Result at 0x7f874ae8f090>)),\n",
       " (1940, 17.1831),\n",
       " (1941, 16.3468),\n",
       " (1942, 14.7372),\n",
       " (1943, 13.907),\n",
       " (1944, 13.683),\n",
       " (1945, 13.378800000000002),\n",
       " (1946, 12.3334),\n",
       " (1947, 10.7819),\n",
       " (1948, 10.0121),\n",
       " (1949, 10.110199999999999),\n",
       " (1950, 10.0017),\n",
       " (1951, 9.2728),\n",
       " (1952, 9.0662),\n",
       " (1953, 8.992799999999999),\n",
       " (1954, 8.9649),\n",
       " (1955, 8.99),\n",
       " (1956, 8.8549),\n",
       " (1957, 8.5686),\n",
       " (1958, 8.341000000000001),\n",
       " (1959, 8.2575),\n",
       " (1960, 8.1389),\n",
       " (1961, 8.0526),\n",
       " (1962, 7.9573),\n",
       " (1963, 7.8598),\n",
       " (1964, 7.760599999999999),\n",
       " (1965, 7.639500000000001),\n",
       " (1966, 7.415900000000001),\n",
       " (1967, 7.215800000000001),\n",
       " (1968, 6.9201999999999995),\n",
       " (1969, 6.5618),\n",
       " (1970, 6.1998),\n",
       " (1971, 5.9446),\n",
       " (1972, 5.7562),\n",
       " (1973, 5.4213),\n",
       " (1974, 4.8817),\n",
       " (1975, 4.4727),\n",
       " (1976, 4.2297),\n",
       " (1977, 3.9715),\n",
       " (1978, 3.6899),\n",
       " (1979, 3.3167),\n",
       " (1980, 2.9208999999999996),\n",
       " (1981, 2.6473),\n",
       " (1982, 2.4944),\n",
       " (1983, 2.4167),\n",
       " (1984, 2.3171),\n",
       " (1985, 2.2377000000000002),\n",
       " (1986, 2.1961),\n",
       " (1987, (nan, <wolframalpha.Result at 0x7f874aefd390>)),\n",
       " (1988, 2.0354),\n",
       " (1989, 1.9417),\n",
       " (1990, 1.8422999999999998),\n",
       " (1991, 1.7674),\n",
       " (1992, 1.7155),\n",
       " (1993, 1.6663),\n",
       " (1994, 1.6239),\n",
       " (1995, 1.5796000000000001),\n",
       " (1996, 1.5346000000000002),\n",
       " (1997, 1.4996),\n",
       " (1998, 1.4767),\n",
       " (1999, 1.445),\n",
       " (2000, 1.3978),\n",
       " (2001, 1.3594),\n",
       " (2002, (nan, <wolframalpha.Result at 0x7f874aefd810>)),\n",
       " (2003, 1.3085),\n",
       " (2004, 1.2744),\n",
       " (2005, 1.2326000000000001),\n",
       " (2006, 1.194),\n",
       " (2007, 1.1609),\n",
       " (2008, 1.1179999999999999),\n",
       " (2009, 1.122),\n",
       " (2010, 1.1039),\n",
       " (2011, 1.0714),\n",
       " (2012, 1.0485),\n",
       " (2013, 1.0332999999999999),\n",
       " (2014, 1.018)]"
      ]
     },
     "execution_count": 55,
     "metadata": {},
     "output_type": "execute_result"
    }
   ],
   "source": [
    "inflation"
   ]
  },
  {
   "cell_type": "code",
   "execution_count": 56,
   "metadata": {
    "collapsed": false
   },
   "outputs": [],
   "source": [
    "inflation_dict = dict(inflation)"
   ]
  },
  {
   "cell_type": "code",
   "execution_count": 67,
   "metadata": {
    "collapsed": false
   },
   "outputs": [
    {
     "name": "stdout",
     "output_type": "stream",
     "text": [
      "23.8127\n"
     ]
    }
   ],
   "source": [
    "m = float(next(res.results).text.split('$')[1].split(' ')[0])/100.0\n",
    "# this gets a float that is the multiplyter to do the inflation adustment\n",
    "# to 2015\n",
    "print m"
   ]
  },
  {
   "cell_type": "code",
   "execution_count": 96,
   "metadata": {
    "collapsed": false
   },
   "outputs": [],
   "source": [
    "inflation_dict[2002] = m"
   ]
  },
  {
   "cell_type": "code",
   "execution_count": 99,
   "metadata": {
    "collapsed": false
   },
   "outputs": [
    {
     "data": {
      "text/plain": [
       "{1900: 29.5709,\n",
       " 1901: 29.212,\n",
       " 1902: 28.8618,\n",
       " 1903: 28.218899999999998,\n",
       " 1904: 27.8919,\n",
       " 1905: 28.218899999999998,\n",
       " 1906: 27.604,\n",
       " 1907: 26.4223,\n",
       " 1908: 26.985100000000003,\n",
       " 1909: 27.291,\n",
       " 1910: 26.1354,\n",
       " 1911: 26.1354,\n",
       " 1912: 25.6071,\n",
       " 1913: 24.3548,\n",
       " 1914: 24.0306,\n",
       " 1915: 23.8127,\n",
       " 1916: 22.116999999999997,\n",
       " 1917: 18.7686,\n",
       " 1918: 16.0027,\n",
       " 1919: 13.8869,\n",
       " 1920: 12.010299999999999,\n",
       " 1921: 13.485,\n",
       " 1922: 14.3706,\n",
       " 1923: 14.1177,\n",
       " 1924: 14.0559,\n",
       " 1925: 13.722000000000001,\n",
       " 1926: 13.599300000000001,\n",
       " 1927: 13.866900000000001,\n",
       " 1928: 14.028599999999999,\n",
       " 1929: 14.028599999999999,\n",
       " 1930: 14.413599999999999,\n",
       " 1931: 15.827300000000001,\n",
       " 1932: 17.645,\n",
       " 1933: 18.6114,\n",
       " 1934: 17.985599999999998,\n",
       " 1935: 17.5379,\n",
       " 1936: 17.3587,\n",
       " 1937: 16.7351,\n",
       " 1938: 17.081500000000002,\n",
       " 1939: 17.3067,\n",
       " 1940: 17.1831,\n",
       " 1941: 16.3468,\n",
       " 1942: 14.7372,\n",
       " 1943: 13.907,\n",
       " 1944: 13.683,\n",
       " 1945: 13.378800000000002,\n",
       " 1946: 12.3334,\n",
       " 1947: 10.7819,\n",
       " 1948: 10.0121,\n",
       " 1949: 10.110199999999999,\n",
       " 1950: 10.0017,\n",
       " 1951: 9.2728,\n",
       " 1952: 9.0662,\n",
       " 1953: 8.992799999999999,\n",
       " 1954: 8.9649,\n",
       " 1955: 8.99,\n",
       " 1956: 8.8549,\n",
       " 1957: 8.5686,\n",
       " 1958: 8.341000000000001,\n",
       " 1959: 8.2575,\n",
       " 1960: 8.1389,\n",
       " 1961: 8.0526,\n",
       " 1962: 7.9573,\n",
       " 1963: 7.8598,\n",
       " 1964: 7.760599999999999,\n",
       " 1965: 7.639500000000001,\n",
       " 1966: 7.415900000000001,\n",
       " 1967: 7.215800000000001,\n",
       " 1968: 6.9201999999999995,\n",
       " 1969: 6.5618,\n",
       " 1970: 6.1998,\n",
       " 1971: 5.9446,\n",
       " 1972: 5.7562,\n",
       " 1973: 5.4213,\n",
       " 1974: 4.8817,\n",
       " 1975: 4.4727,\n",
       " 1976: 4.2297,\n",
       " 1977: 3.9715,\n",
       " 1978: 3.6899,\n",
       " 1979: 3.3167,\n",
       " 1980: 2.9208999999999996,\n",
       " 1981: 2.6473,\n",
       " 1982: 2.4944,\n",
       " 1983: 2.4167,\n",
       " 1984: 2.3171,\n",
       " 1985: 2.2377000000000002,\n",
       " 1986: 2.1961,\n",
       " 1987: 2.1184,\n",
       " 1988: 2.0354,\n",
       " 1989: 1.9417,\n",
       " 1990: 1.8422999999999998,\n",
       " 1991: 1.7674,\n",
       " 1992: 1.7155,\n",
       " 1993: 1.6663,\n",
       " 1994: 1.6239,\n",
       " 1995: 1.5796000000000001,\n",
       " 1996: 1.5346000000000002,\n",
       " 1997: 1.4996,\n",
       " 1998: 1.4767,\n",
       " 1999: 1.445,\n",
       " 2000: 1.3978,\n",
       " 2001: 1.3594,\n",
       " 2002: 1.3381999999999998,\n",
       " 2003: 1.3085,\n",
       " 2004: 1.2744,\n",
       " 2005: 1.2326000000000001,\n",
       " 2006: 1.194,\n",
       " 2007: 1.1609,\n",
       " 2008: 1.1179999999999999,\n",
       " 2009: 1.122,\n",
       " 2010: 1.1039,\n",
       " 2011: 1.0714,\n",
       " 2012: 1.0485,\n",
       " 2013: 1.0332999999999999,\n",
       " 2014: 1.018}"
      ]
     },
     "execution_count": 99,
     "metadata": {},
     "output_type": "execute_result"
    }
   ],
   "source": [
    "inflation_dict"
   ]
  },
  {
   "cell_type": "code",
   "execution_count": 100,
   "metadata": {
    "collapsed": false
   },
   "outputs": [],
   "source": [
    "with open(\"inflation_dict.pkl\",'w')as picklefile:\n",
    "    pickle.dump(inflation_dict, picklefile)"
   ]
  },
  {
   "cell_type": "code",
   "execution_count": 20,
   "metadata": {
    "collapsed": false
   },
   "outputs": [],
   "source": [
    "def adjust_to_today(money,old_date):\n",
    "    adjusted_money = inflation.inflate(money, datetime.date.today(), old_date, 'United States')\n",
    "    return adjusted_money"
   ]
  },
  {
   "cell_type": "code",
   "execution_count": null,
   "metadata": {
    "collapsed": false
   },
   "outputs": [],
   "source": []
  }
 ],
 "metadata": {
  "kernelspec": {
   "display_name": "Python 2",
   "language": "python",
   "name": "python2"
  },
  "language_info": {
   "codemirror_mode": {
    "name": "ipython",
    "version": 2
   },
   "file_extension": ".py",
   "mimetype": "text/x-python",
   "name": "python",
   "nbconvert_exporter": "python",
   "pygments_lexer": "ipython2",
   "version": "2.7.6"
  }
 },
 "nbformat": 4,
 "nbformat_minor": 0
}
