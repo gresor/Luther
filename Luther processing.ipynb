{
 "metadata": {
  "name": "",
  "signature": "sha256:7c1f61aeab20ca111690dd6f365744f8fceef504d40c601a0b201967f940a8a6"
 },
 "nbformat": 3,
 "nbformat_minor": 0,
 "worksheets": [
  {
   "cells": [
    {
     "cell_type": "code",
     "collapsed": false,
     "input": [
      "import numpy as np\n",
      "import pandas as pd\n",
      "import dateutil.parser\n",
      "%matplotlib inline\n",
      "import pickle\n",
      "import matplotlib.pyplot as plt\n",
      "from sklearn.linear_model import LinearRegression\n",
      "import math"
     ],
     "language": "python",
     "metadata": {},
     "outputs": [],
     "prompt_number": 1
    },
    {
     "cell_type": "code",
     "collapsed": false,
     "input": [
      "inflation_dict = pickle.load( open( \"inflation_dict.pkl\", \"rb\" ) )"
     ],
     "language": "python",
     "metadata": {},
     "outputs": [],
     "prompt_number": 2
    },
    {
     "cell_type": "code",
     "collapsed": false,
     "input": [
      "inflation_dict[2015]=1.0"
     ],
     "language": "python",
     "metadata": {},
     "outputs": [],
     "prompt_number": 3
    },
    {
     "cell_type": "code",
     "collapsed": false,
     "input": [
      " movie_df= pickle.load( open( \"my_first_pickle.pkl\", \"rb\" ) )"
     ],
     "language": "python",
     "metadata": {},
     "outputs": [],
     "prompt_number": 4
    },
    {
     "cell_type": "code",
     "collapsed": false,
     "input": [
      "all_movies_budgets = pickle.load(open(\"my_null_pickle.pkl\", \"rb\"))"
     ],
     "language": "python",
     "metadata": {},
     "outputs": [],
     "prompt_number": 5
    },
    {
     "cell_type": "code",
     "collapsed": false,
     "input": [
      "dateutil.parser.parse(all_movies_budgets['Release Date'][0]).year"
     ],
     "language": "python",
     "metadata": {},
     "outputs": [
      {
       "metadata": {},
       "output_type": "pyout",
       "prompt_number": 15,
       "text": [
        "2009"
       ]
      }
     ],
     "prompt_number": 15
    },
    {
     "cell_type": "code",
     "collapsed": false,
     "input": [
      "def date_to_year(date_string):\n",
      "    \"\"\"takes the unicode date string, and returns and interger that is the year\"\"\"\n",
      "    year = dateutil.parser.parse(date_string).year\n",
      "    return year"
     ],
     "language": "python",
     "metadata": {},
     "outputs": [],
     "prompt_number": 6
    },
    {
     "cell_type": "code",
     "collapsed": false,
     "input": [
      "def add_fun_col(df,new_col,old_col,fun):\n",
      "    \"\"\"adds to a new column new_col to a panda data frame df, by applying function fun to column old_col\"\"\"\n",
      "    df[new_col]=df[old_col].apply(lambda x: fun(x))"
     ],
     "language": "python",
     "metadata": {},
     "outputs": [],
     "prompt_number": 7
    },
    {
     "cell_type": "code",
     "collapsed": false,
     "input": [
      "add_fun_col(all_movies_budgets,'year','Release Date',date_to_year)"
     ],
     "language": "python",
     "metadata": {},
     "outputs": [],
     "prompt_number": 8
    },
    {
     "cell_type": "code",
     "collapsed": false,
     "input": [
      "def inflate(year,money):\n",
      "    \"\"\"ajusts numbers for inflation, bringin everything to 2015 dollar values\"\"\"\n",
      "    money_adjusted = money*inflation_dict[year]\n",
      "    return money_adjusted"
     ],
     "language": "python",
     "metadata": {},
     "outputs": [],
     "prompt_number": 10
    },
    {
     "cell_type": "code",
     "collapsed": false,
     "input": [
      "def money_to_int(money):\n",
      "    \"\"\"takes a money string and retruns it as an int\"\"\"\n",
      "    money_int = int(money.replace('$','').replace(',',''))\n",
      "    return money_int"
     ],
     "language": "python",
     "metadata": {},
     "outputs": [],
     "prompt_number": 11
    },
    {
     "cell_type": "code",
     "collapsed": false,
     "input": [
      "money_to_int(all_movies_budgets['Production Budget'][0])"
     ],
     "language": "python",
     "metadata": {},
     "outputs": [
      {
       "metadata": {},
       "output_type": "pyout",
       "prompt_number": 27,
       "text": [
        "'425000000'"
       ]
      }
     ],
     "prompt_number": 27
    },
    {
     "cell_type": "code",
     "collapsed": false,
     "input": [
      "adjustments = []\n",
      "for i,year_budget_gross in all_movies_budgets[['year','Production Budget','Domestic Gross','Movie']].iterrows():\n",
      "    year = year_budget_gross[0]\n",
      "    budget = money_to_int(year_budget_gross[1])\n",
      "    gross = money_to_int(year_budget_gross[2])\n",
      "#     print year\n",
      "    adj_budget = inflate(year,budget)\n",
      "    adj_gross = inflate(year,gross)\n",
      "    title =year_budget_gross[3]\n",
      "    adjustments.append([title,adj_budget,adj_gross])\n",
      "    \"\"\"makes a list of all movies with budget and gross adjusted for inflation to 2015\"\"\""
     ],
     "language": "python",
     "metadata": {},
     "outputs": [],
     "prompt_number": 12
    },
    {
     "cell_type": "code",
     "collapsed": false,
     "input": [
      "adjusted_budget_gross_df = pd.DataFrame(adjustments)"
     ],
     "language": "python",
     "metadata": {},
     "outputs": [],
     "prompt_number": 13
    },
    {
     "cell_type": "code",
     "collapsed": false,
     "input": [
      "adjusted_budget_gross_df.columns = ['title','adj_budget','adj_gross']"
     ],
     "language": "python",
     "metadata": {},
     "outputs": [],
     "prompt_number": 14
    },
    {
     "cell_type": "code",
     "collapsed": false,
     "input": [
      "all_movies_budgets.head()"
     ],
     "language": "python",
     "metadata": {},
     "outputs": [
      {
       "html": [
        "<div style=\"max-height:1000px;max-width:1500px;overflow:auto;\">\n",
        "<table border=\"1\" class=\"dataframe\">\n",
        "  <thead>\n",
        "    <tr style=\"text-align: right;\">\n",
        "      <th></th>\n",
        "      <th>?</th>\n",
        "      <th>Release Date</th>\n",
        "      <th>Movie</th>\n",
        "      <th>Production Budget</th>\n",
        "      <th>Domestic Gross</th>\n",
        "      <th>Worldwide Gross</th>\n",
        "      <th>year</th>\n",
        "    </tr>\n",
        "  </thead>\n",
        "  <tbody>\n",
        "    <tr>\n",
        "      <th>0</th>\n",
        "      <td> 1</td>\n",
        "      <td> 12/18/2009</td>\n",
        "      <td>                                   Avatar</td>\n",
        "      <td> $425,000,000</td>\n",
        "      <td> $760,507,625</td>\n",
        "      <td> $2,783,918,982</td>\n",
        "      <td> 2009</td>\n",
        "    </tr>\n",
        "    <tr>\n",
        "      <th>2</th>\n",
        "      <td> 2</td>\n",
        "      <td>  5/24/2007</td>\n",
        "      <td> Pirates of the Caribbean: At World's End</td>\n",
        "      <td> $300,000,000</td>\n",
        "      <td> $309,420,425</td>\n",
        "      <td>   $960,996,492</td>\n",
        "      <td> 2007</td>\n",
        "    </tr>\n",
        "    <tr>\n",
        "      <th>4</th>\n",
        "      <td> 3</td>\n",
        "      <td>  7/20/2012</td>\n",
        "      <td>                    The Dark Knight Rises</td>\n",
        "      <td> $275,000,000</td>\n",
        "      <td> $448,139,099</td>\n",
        "      <td> $1,079,343,943</td>\n",
        "      <td> 2012</td>\n",
        "    </tr>\n",
        "    <tr>\n",
        "      <th>6</th>\n",
        "      <td> 4</td>\n",
        "      <td>   7/2/2013</td>\n",
        "      <td>                          The Lone Ranger</td>\n",
        "      <td> $275,000,000</td>\n",
        "      <td>  $89,289,910</td>\n",
        "      <td>   $259,989,910</td>\n",
        "      <td> 2013</td>\n",
        "    </tr>\n",
        "    <tr>\n",
        "      <th>8</th>\n",
        "      <td> 5</td>\n",
        "      <td>   3/9/2012</td>\n",
        "      <td>                              John Carter</td>\n",
        "      <td> $275,000,000</td>\n",
        "      <td>  $73,058,679</td>\n",
        "      <td>   $282,778,100</td>\n",
        "      <td> 2012</td>\n",
        "    </tr>\n",
        "  </tbody>\n",
        "</table>\n",
        "</div>"
       ],
       "metadata": {},
       "output_type": "pyout",
       "prompt_number": 15,
       "text": [
        "   ? Release Date                                     Movie Production Budget  \\\n",
        "0  1   12/18/2009                                    Avatar      $425,000,000   \n",
        "2  2    5/24/2007  Pirates of the Caribbean: At World's End      $300,000,000   \n",
        "4  3    7/20/2012                     The Dark Knight Rises      $275,000,000   \n",
        "6  4     7/2/2013                           The Lone Ranger      $275,000,000   \n",
        "8  5     3/9/2012                               John Carter      $275,000,000   \n",
        "\n",
        "  Domestic Gross Worldwide Gross  year  \n",
        "0   $760,507,625  $2,783,918,982  2009  \n",
        "2   $309,420,425    $960,996,492  2007  \n",
        "4   $448,139,099  $1,079,343,943  2012  \n",
        "6    $89,289,910    $259,989,910  2013  \n",
        "8    $73,058,679    $282,778,100  2012  "
       ]
      }
     ],
     "prompt_number": 15
    },
    {
     "cell_type": "code",
     "collapsed": false,
     "input": [
      "adjusted_budget_gross_df.tail()"
     ],
     "language": "python",
     "metadata": {},
     "outputs": [
      {
       "html": [
        "<div style=\"max-height:1000px;max-width:1500px;overflow:auto;\">\n",
        "<table border=\"1\" class=\"dataframe\">\n",
        "  <thead>\n",
        "    <tr style=\"text-align: right;\">\n",
        "      <th></th>\n",
        "      <th>title</th>\n",
        "      <th>adj_budget</th>\n",
        "      <th>adj_gross</th>\n",
        "    </tr>\n",
        "  </thead>\n",
        "  <tbody>\n",
        "    <tr>\n",
        "      <th>3154</th>\n",
        "      <td>              The Sound of Music</td>\n",
        "      <td> 62643900.0</td>\n",
        "      <td> 1.246876e+09</td>\n",
        "    </tr>\n",
        "    <tr>\n",
        "      <th>3944</th>\n",
        "      <td>                        Fantasia</td>\n",
        "      <td> 39177468.0</td>\n",
        "      <td> 1.431696e+09</td>\n",
        "    </tr>\n",
        "    <tr>\n",
        "      <th>2857</th>\n",
        "      <td>    Star Wars Ep. IV: A New Hope</td>\n",
        "      <td> 43686500.0</td>\n",
        "      <td> 1.830854e+09</td>\n",
        "    </tr>\n",
        "    <tr>\n",
        "      <th>4134</th>\n",
        "      <td> Snow White and the Seven Dwarfs</td>\n",
        "      <td> 24901828.8</td>\n",
        "      <td> 3.094746e+09</td>\n",
        "    </tr>\n",
        "    <tr>\n",
        "      <th>3711</th>\n",
        "      <td>              Gone with the Wind</td>\n",
        "      <td> 67496130.0</td>\n",
        "      <td> 3.438503e+09</td>\n",
        "    </tr>\n",
        "  </tbody>\n",
        "</table>\n",
        "</div>"
       ],
       "metadata": {},
       "output_type": "pyout",
       "prompt_number": 18,
       "text": [
        "                                title  adj_budget     adj_gross\n",
        "3154               The Sound of Music  62643900.0  1.246876e+09\n",
        "3944                         Fantasia  39177468.0  1.431696e+09\n",
        "2857     Star Wars Ep. IV: A New Hope  43686500.0  1.830854e+09\n",
        "4134  Snow White and the Seven Dwarfs  24901828.8  3.094746e+09\n",
        "3711               Gone with the Wind  67496130.0  3.438503e+09"
       ]
      }
     ],
     "prompt_number": 18
    },
    {
     "cell_type": "code",
     "collapsed": false,
     "input": [
      "adjusted_budget_gross_df.sort('adj_gross', inplace=True)"
     ],
     "language": "python",
     "metadata": {},
     "outputs": [],
     "prompt_number": 17
    },
    {
     "cell_type": "code",
     "collapsed": false,
     "input": [
      "len(pd.concat([all_movies_budgets,adjusted_budget_gross_df], axis=1))"
     ],
     "language": "python",
     "metadata": {},
     "outputs": [
      {
       "metadata": {},
       "output_type": "pyout",
       "prompt_number": 63,
       "text": [
        "6949"
       ]
      }
     ],
     "prompt_number": 63
    },
    {
     "cell_type": "code",
     "collapsed": false,
     "input": [
      "X = adjusted_budget_gross_df[['adj_budget']]\n",
      "Y = adjusted_budget_gross_df['adj_gross']\n",
      "projected_gross = LinearRegression()\n",
      "projected_gross.fit(X,Y)\n",
      "\"\"\"makes linear model projecting inflation adjusted gross off of inflation adjusted budget\"\"\""
     ],
     "language": "python",
     "metadata": {},
     "outputs": [
      {
       "metadata": {},
       "output_type": "pyout",
       "prompt_number": 19,
       "text": [
        "'makes linear model projecting inflation adjusted gross off of inflation adjusted budget'"
       ]
      }
     ],
     "prompt_number": 19
    },
    {
     "cell_type": "code",
     "collapsed": false,
     "input": [
      "print 'coefficient:\\t %g' % projected_gross.coef_[0]\n",
      "print 'intercept: \\t %g' % projected_gross.intercept_\n",
      "print 'R^2:        \\t %g' % projected_gross.score(X,Y)"
     ],
     "language": "python",
     "metadata": {},
     "outputs": [
      {
       "output_type": "stream",
       "stream": "stdout",
       "text": [
        "coefficient:\t 1.11996\n",
        "intercept: \t 1.85784e+07\n",
        "R^2:        \t 0.175923\n"
       ]
      }
     ],
     "prompt_number": 20
    },
    {
     "cell_type": "code",
     "collapsed": false,
     "input": [
      "plt.plot(X,Y, 'go')\n",
      "plt.plot(X, projected_gross.predict(X),'k--')\n",
      "projected_gross.coef_"
     ],
     "language": "python",
     "metadata": {},
     "outputs": [
      {
       "metadata": {},
       "output_type": "pyout",
       "prompt_number": 110,
       "text": [
        "array([ 1.11996339])"
       ]
      },
      {
       "metadata": {},
       "output_type": "display_data",
       "png": "[encoded data removed]",
       "text": [
        "<matplotlib.figure.Figure at 0x7fcd505f24d0>"
       ]
      }
     ],
     "prompt_number": 110
    },
    {
     "cell_type": "code",
     "collapsed": false,
     "input": [
      "movie_df.tail()"
     ],
     "language": "python",
     "metadata": {},
     "outputs": [
      {
       "html": [
        "<div style=\"max-height:1000px;max-width:1500px;overflow:auto;\">\n",
        "<table border=\"1\" class=\"dataframe\">\n",
        "  <thead>\n",
        "    <tr style=\"text-align: right;\">\n",
        "      <th></th>\n",
        "      <th>title</th>\n",
        "      <th>bmojo_link</th>\n",
        "      <th>tv_show</th>\n",
        "      <th>wiki_link</th>\n",
        "      <th>No. of seasons</th>\n",
        "      <th>Series_start</th>\n",
        "      <th>Series_end</th>\n",
        "      <th>Series_len</th>\n",
        "      <th>Gross</th>\n",
        "      <th>Budget</th>\n",
        "      <th>ReleaseDate</th>\n",
        "      <th>Ratting</th>\n",
        "      <th>Genre</th>\n",
        "    </tr>\n",
        "  </thead>\n",
        "  <tbody>\n",
        "    <tr>\n",
        "      <th>56</th>\n",
        "      <td>       Twilight Zone: The Movie</td>\n",
        "      <td> http://www.boxofficemojo.com/movies/?id=twilig...</td>\n",
        "      <td> The Twilight Zone</td>\n",
        "      <td> http://en.wikipedia.org/wiki/The_Twilight_Zone...</td>\n",
        "      <td> 5</td>\n",
        "      <td>1959-10-02</td>\n",
        "      <td>1964-06-19</td>\n",
        "      <td>1722 days</td>\n",
        "      <td> 21440752</td>\n",
        "      <td> 12000000</td>\n",
        "      <td>1996-08-23</td>\n",
        "      <td> PG-13</td>\n",
        "      <td>        Comedy</td>\n",
        "    </tr>\n",
        "    <tr>\n",
        "      <th>61</th>\n",
        "      <td> The X-Files: I Want to Believe</td>\n",
        "      <td> http://www.boxofficemojo.com/movies/?id=xfiles...</td>\n",
        "      <td>       The X Files</td>\n",
        "      <td>          http://en.wikipedia.org/wiki/The_X-Files</td>\n",
        "      <td> 9</td>\n",
        "      <td>1993-09-10</td>\n",
        "      <td>2002-05-19</td>\n",
        "      <td>3173 days</td>\n",
        "      <td> 12843849</td>\n",
        "      <td> 25000000</td>\n",
        "      <td>2005-06-10</td>\n",
        "      <td> PG-13</td>\n",
        "      <td>        Comedy</td>\n",
        "    </tr>\n",
        "    <tr>\n",
        "      <th>62</th>\n",
        "      <td>               Reno 911!: Miami</td>\n",
        "      <td> http://www.boxofficemojo.com/movies/?id=reno91...</td>\n",
        "      <td>         Reno 911!</td>\n",
        "      <td>            http://en.wikipedia.org/wiki/Reno_911!</td>\n",
        "      <td> 6</td>\n",
        "      <td>2003-07-23</td>\n",
        "      <td>2009-07-08</td>\n",
        "      <td>2177 days</td>\n",
        "      <td> 10925060</td>\n",
        "      <td> 15000000</td>\n",
        "      <td>1997-08-22</td>\n",
        "      <td>    PG</td>\n",
        "      <td> Family Comedy</td>\n",
        "    </tr>\n",
        "    <tr>\n",
        "      <th>66</th>\n",
        "      <td>                  The Mod Squad</td>\n",
        "      <td> http://www.boxofficemojo.com/movies/?id=modsqu...</td>\n",
        "      <td>     The Mod Squad</td>\n",
        "      <td>        http://en.wikipedia.org/wiki/The_Mod_Squad</td>\n",
        "      <td> 5</td>\n",
        "      <td>1968-09-24</td>\n",
        "      <td>1973-08-23</td>\n",
        "      <td>1794 days</td>\n",
        "      <td>  3322127</td>\n",
        "      <td>  6000000</td>\n",
        "      <td>2014-03-14</td>\n",
        "      <td> PG-13</td>\n",
        "      <td>        Comedy</td>\n",
        "    </tr>\n",
        "    <tr>\n",
        "      <th>67</th>\n",
        "      <td>               The Honeymooners</td>\n",
        "      <td> http://www.boxofficemojo.com/movies/?id=honeym...</td>\n",
        "      <td>  The Honeymooners</td>\n",
        "      <td>     http://en.wikipedia.org/wiki/The_Honeymooners</td>\n",
        "      <td> 1</td>\n",
        "      <td>1955-10-01</td>\n",
        "      <td>1956-09-22</td>\n",
        "      <td> 357 days</td>\n",
        "      <td>  2072645</td>\n",
        "      <td>  2000000</td>\n",
        "      <td>2006-06-28</td>\n",
        "      <td>     R</td>\n",
        "      <td>        Comedy</td>\n",
        "    </tr>\n",
        "  </tbody>\n",
        "</table>\n",
        "</div>"
       ],
       "metadata": {},
       "output_type": "pyout",
       "prompt_number": 23,
       "text": [
        "                             title  \\\n",
        "56        Twilight Zone: The Movie   \n",
        "61  The X-Files: I Want to Believe   \n",
        "62                Reno 911!: Miami   \n",
        "66                   The Mod Squad   \n",
        "67                The Honeymooners   \n",
        "\n",
        "                                           bmojo_link            tv_show  \\\n",
        "56  http://www.boxofficemojo.com/movies/?id=twilig...  The Twilight Zone   \n",
        "61  http://www.boxofficemojo.com/movies/?id=xfiles...        The X Files   \n",
        "62  http://www.boxofficemojo.com/movies/?id=reno91...          Reno 911!   \n",
        "66  http://www.boxofficemojo.com/movies/?id=modsqu...      The Mod Squad   \n",
        "67  http://www.boxofficemojo.com/movies/?id=honeym...   The Honeymooners   \n",
        "\n",
        "                                            wiki_link No. of seasons  \\\n",
        "56  http://en.wikipedia.org/wiki/The_Twilight_Zone...              5   \n",
        "61           http://en.wikipedia.org/wiki/The_X-Files              9   \n",
        "62             http://en.wikipedia.org/wiki/Reno_911!              6   \n",
        "66         http://en.wikipedia.org/wiki/The_Mod_Squad              5   \n",
        "67      http://en.wikipedia.org/wiki/The_Honeymooners              1   \n",
        "\n",
        "   Series_start Series_end  Series_len     Gross    Budget ReleaseDate  \\\n",
        "56   1959-10-02 1964-06-19   1722 days  21440752  12000000  1996-08-23   \n",
        "61   1993-09-10 2002-05-19   3173 days  12843849  25000000  2005-06-10   \n",
        "62   2003-07-23 2009-07-08   2177 days  10925060  15000000  1997-08-22   \n",
        "66   1968-09-24 1973-08-23   1794 days   3322127   6000000  2014-03-14   \n",
        "67   1955-10-01 1956-09-22    357 days   2072645   2000000  2006-06-28   \n",
        "\n",
        "   Ratting          Genre  \n",
        "56   PG-13         Comedy  \n",
        "61   PG-13         Comedy  \n",
        "62      PG  Family Comedy  \n",
        "66   PG-13         Comedy  \n",
        "67       R         Comedy  "
       ]
      }
     ],
     "prompt_number": 23
    },
    {
     "cell_type": "code",
     "collapsed": false,
     "input": [
      "movie_df= movie_df.dropna()"
     ],
     "language": "python",
     "metadata": {},
     "outputs": [],
     "prompt_number": 22
    },
    {
     "cell_type": "code",
     "collapsed": false,
     "input": [
      "movie_df['ReleaseDate'][0]"
     ],
     "language": "python",
     "metadata": {},
     "outputs": [
      {
       "metadata": {},
       "output_type": "pyout",
       "prompt_number": 76,
       "text": [
        "int"
       ]
      }
     ],
     "prompt_number": 76
    },
    {
     "cell_type": "code",
     "collapsed": false,
     "input": [
      "adjusted_tv_movie = []\n",
      "for i,year_budget_gross in movie_df[['ReleaseDate','Budget','Gross','title']].iterrows():\n",
      "    year = year_budget_gross[0].year\n",
      "    budget = year_budget_gross[1]\n",
      "    gross = year_budget_gross[2]\n",
      "    adj_budget = inflate(year,budget)\n",
      "    adj_gross = inflate(year,gross)\n",
      "    success = float(adj_gross - projected_gross.predict(adj_budget))\n",
      "    title =year_budget_gross[3]\n",
      "    adjusted_tv_movie.append([title,adj_budget,adj_gross,success])\n",
      "    \"\"\"makes a list with the movies bugets and gross adjusted for inflation, and success which is \n",
      "    the difference between actual and  projected\"\"\"\n"
     ],
     "language": "python",
     "metadata": {},
     "outputs": [],
     "prompt_number": 28
    },
    {
     "cell_type": "code",
     "collapsed": false,
     "input": [
      "adjusted_tv_movie[0]"
     ],
     "language": "python",
     "metadata": {},
     "outputs": [
      {
       "metadata": {},
       "output_type": "pyout",
       "prompt_number": 29,
       "text": [
        "[u'Star Trek', 168300000.00000003, 289173081.318, 82104883.65253711]"
       ]
      }
     ],
     "prompt_number": 29
    },
    {
     "cell_type": "code",
     "collapsed": false,
     "input": [
      "adjusted_all_tv_movie = []\n",
      "for i,year_budget_gross_everything in movie_df[['ReleaseDate','Budget','Gross','title','No. of seasons','Series_len','Series_end']].iterrows():\n",
      "    year = year_budget_gross_everything[0].year\n",
      "    budget = year_budget_gross_everything[1]\n",
      "    gross = year_budget_gross_everything[2]\n",
      "    adj_budget = inflate(year,budget)\n",
      "    adj_gross = inflate(year,gross)\n",
      "    success = float(adj_gross - projected_gross.predict(adj_budget))\n",
      "    title =year_budget_gross_everything[3]\n",
      "    number_of_seasons = int(year_budget_gross_everything[4])\n",
      "    series_len =year_budget_gross_everything[5].days \n",
      "    time_gap = (year_budget_gross_everything[0]-year_budget_gross_everything[6]).days\n",
      "    adjusted_all_tv_movie.append([title,adj_budget,adj_gross,success,number_of_seasons,series_len,time_gap])\n",
      "    \"\"\"makes a list with the movies bugets and gross adjusted for inflation, and success which is \n",
      "    the difference between actual and  projected, and add a bunch of other junk im interested in\"\"\""
     ],
     "language": "python",
     "metadata": {},
     "outputs": [],
     "prompt_number": 97
    },
    {
     "cell_type": "code",
     "collapsed": false,
     "input": [
      "import datetime\n",
      "from datetime import date"
     ],
     "language": "python",
     "metadata": {},
     "outputs": [],
     "prompt_number": 85
    },
    {
     "cell_type": "code",
     "collapsed": false,
     "input": [
      "type(adjusted_all_tv_movie[0][-1].days)"
     ],
     "language": "python",
     "metadata": {},
     "outputs": [
      {
       "metadata": {},
       "output_type": "pyout",
       "prompt_number": 96,
       "text": [
        "int"
       ]
      }
     ],
     "prompt_number": 96
    },
    {
     "cell_type": "code",
     "collapsed": false,
     "input": [
      "adj_all_tv_df =  pd.DataFrame(adjusted_all_tv_movie)"
     ],
     "language": "python",
     "metadata": {},
     "outputs": [],
     "prompt_number": 98
    },
    {
     "cell_type": "code",
     "collapsed": false,
     "input": [
      "adj_all_tv_df.columns=['title','adj_budget','adj_gross', 'success','number_of_seasons','series_len','time_gap']"
     ],
     "language": "python",
     "metadata": {},
     "outputs": [],
     "prompt_number": 99
    },
    {
     "cell_type": "code",
     "collapsed": false,
     "input": [
      "adj_all_tv_df.head()"
     ],
     "language": "python",
     "metadata": {},
     "outputs": [
      {
       "html": [
        "<div style=\"max-height:1000px;max-width:1500px;overflow:auto;\">\n",
        "<table border=\"1\" class=\"dataframe\">\n",
        "  <thead>\n",
        "    <tr style=\"text-align: right;\">\n",
        "      <th></th>\n",
        "      <th>title</th>\n",
        "      <th>adj_budget</th>\n",
        "      <th>adj_gross</th>\n",
        "      <th>success</th>\n",
        "      <th>number_of_seasons</th>\n",
        "      <th>series_len</th>\n",
        "      <th>time_gap</th>\n",
        "    </tr>\n",
        "  </thead>\n",
        "  <tbody>\n",
        "    <tr>\n",
        "      <th>0</th>\n",
        "      <td>                            Star Trek</td>\n",
        "      <td> 168300000</td>\n",
        "      <td> 2.891731e+08</td>\n",
        "      <td> 8.210488e+07</td>\n",
        "      <td> 3</td>\n",
        "      <td>  999</td>\n",
        "      <td> 14584</td>\n",
        "    </tr>\n",
        "    <tr>\n",
        "      <th>1</th>\n",
        "      <td>              Star Trek Into Darkness</td>\n",
        "      <td> 196327000</td>\n",
        "      <td> 2.363970e+08</td>\n",
        "      <td>-2.060421e+06</td>\n",
        "      <td> 3</td>\n",
        "      <td>  999</td>\n",
        "      <td> 16053</td>\n",
        "    </tr>\n",
        "    <tr>\n",
        "      <th>2</th>\n",
        "      <td>               Mission: Impossible II</td>\n",
        "      <td> 174725000</td>\n",
        "      <td> 3.010999e+08</td>\n",
        "      <td> 8.683598e+07</td>\n",
        "      <td> 7</td>\n",
        "      <td> 2386</td>\n",
        "      <td>  9917</td>\n",
        "    </tr>\n",
        "    <tr>\n",
        "      <th>3</th>\n",
        "      <td> Mission: Impossible - Ghost Protocol</td>\n",
        "      <td> 155353000</td>\n",
        "      <td> 2.243489e+08</td>\n",
        "      <td> 3.178088e+07</td>\n",
        "      <td> 7</td>\n",
        "      <td> 2386</td>\n",
        "      <td> 14140</td>\n",
        "    </tr>\n",
        "    <tr>\n",
        "      <th>4</th>\n",
        "      <td>                       22 Jump Street</td>\n",
        "      <td>  50900000</td>\n",
        "      <td> 1.951703e+08</td>\n",
        "      <td> 1.195858e+08</td>\n",
        "      <td> 5</td>\n",
        "      <td> 1476</td>\n",
        "      <td>  8448</td>\n",
        "    </tr>\n",
        "  </tbody>\n",
        "</table>\n",
        "</div>"
       ],
       "metadata": {},
       "output_type": "pyout",
       "prompt_number": 100,
       "text": [
        "                                  title  adj_budget     adj_gross  \\\n",
        "0                             Star Trek   168300000  2.891731e+08   \n",
        "1               Star Trek Into Darkness   196327000  2.363970e+08   \n",
        "2                Mission: Impossible II   174725000  3.010999e+08   \n",
        "3  Mission: Impossible - Ghost Protocol   155353000  2.243489e+08   \n",
        "4                        22 Jump Street    50900000  1.951703e+08   \n",
        "\n",
        "        success  number_of_seasons  series_len  time_gap  \n",
        "0  8.210488e+07                  3         999     14584  \n",
        "1 -2.060421e+06                  3         999     16053  \n",
        "2  8.683598e+07                  7        2386      9917  \n",
        "3  3.178088e+07                  7        2386     14140  \n",
        "4  1.195858e+08                  5        1476      8448  "
       ]
      }
     ],
     "prompt_number": 100
    },
    {
     "cell_type": "code",
     "collapsed": false,
     "input": [
      "X_s = adj_all_tv_df[['number_of_seasons','series_len','time_gap']]\n",
      "Y_s = adj_all_tv_df['success']\n",
      "success_model = LinearRegression()\n",
      "success_model.fit(X_s,Y_s)\n",
      "print success_model.score(X_s,Y_s)\n",
      "\"\"\"makes linear model projecting inflation adjusted gross off of inflation adjusted budget\"\"\""
     ],
     "language": "python",
     "metadata": {},
     "outputs": [
      {
       "output_type": "stream",
       "stream": "stdout",
       "text": [
        "0.159291701398\n"
       ]
      },
      {
       "metadata": {},
       "output_type": "pyout",
       "prompt_number": 101,
       "text": [
        "'makes linear model projecting inflation adjusted gross off of inflation adjusted budget'"
       ]
      }
     ],
     "prompt_number": 101
    },
    {
     "cell_type": "code",
     "collapsed": false,
     "input": [
      "#success_model.coef_[0]\n",
      "#success_model.coef_[2]\n",
      "success_model.coef_"
     ],
     "language": "python",
     "metadata": {},
     "outputs": [
      {
       "metadata": {},
       "output_type": "pyout",
       "prompt_number": 109,
       "text": [
        "array([ -9.34254831e+06,  -8.81623243e+03,  -5.31694408e+03])"
       ]
      }
     ],
     "prompt_number": 109
    },
    {
     "cell_type": "code",
     "collapsed": false,
     "input": [
      "adj = pd.DataFrame(adjusted_tv_movie)"
     ],
     "language": "python",
     "metadata": {},
     "outputs": [],
     "prompt_number": 108
    },
    {
     "cell_type": "code",
     "collapsed": false,
     "input": [
      "adj.columns= ['adj_budget','adj_gross']"
     ],
     "language": "python",
     "metadata": {},
     "outputs": [],
     "prompt_number": 109
    },
    {
     "cell_type": "code",
     "collapsed": false,
     "input": [
      "movie_df = pd.concat([movie_df,adj], axis=1)\n",
      "# why isn't this working"
     ],
     "language": "python",
     "metadata": {},
     "outputs": [],
     "prompt_number": 111
    },
    {
     "cell_type": "code",
     "collapsed": false,
     "input": [
      "X_tv = adj[['adj_budget']]\n",
      "Y_tv = adj['adj_gross']\n",
      "projected_gross.score(X_tv,Y_tv)"
     ],
     "language": "python",
     "metadata": {},
     "outputs": [
      {
       "metadata": {},
       "output_type": "pyout",
       "prompt_number": 118,
       "text": [
        "-0.022278882479550344"
       ]
      }
     ],
     "prompt_number": 118
    },
    {
     "cell_type": "code",
     "collapsed": false,
     "input": [
      "\"\"\" make a column that is the difference between the projected gross and then build a second linear model\n",
      "to try to predict this difference based off how long the tv show ran, and the time between the launch of the movie\n",
      "and the end of the show.\n",
      "possibly try to improve the first linear model because it has a negative R squared for the movies based on tv shows\"\"\""
     ],
     "language": "python",
     "metadata": {},
     "outputs": [
      {
       "metadata": {},
       "output_type": "pyout",
       "prompt_number": 119,
       "text": [
        "' make a column that is the difference between the projected gross and then build a second linear model\\nto try to predict this difference based off how long the tv show ran, and the time between the launch of the movie\\nand the end of the show.\\npossibly try to improve the first linear model because it has a negative R squared for the movies based on tv shows'"
       ]
      }
     ],
     "prompt_number": 119
    },
    {
     "cell_type": "code",
     "collapsed": false,
     "input": [],
     "language": "python",
     "metadata": {},
     "outputs": []
    }
   ],
   "metadata": {}
  }
 ]
}