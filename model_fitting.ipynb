{
 "metadata": {
  "name": "",
  "signature": "sha256:7e4f51fbe116d6189ba7d64b4511a37e09128d772519b7daeeb1d4a0af005903"
 },
 "nbformat": 3,
 "nbformat_minor": 0,
 "worksheets": [
  {
   "cells": [
    {
     "cell_type": "code",
     "collapsed": false,
     "input": [
      "import urllib2\n",
      "\n",
      "from bs4 import BeautifulSoup\n",
      "import dateutil.parser\n",
      "import re\n",
      "import pickle\n",
      "import pandas as pd\n",
      "%matplotlib inline\n",
      "import numpy as np\n",
      "import matplotlib.pyplot as plt\n",
      "from sklearn.linear_model import LinearRegression\n",
      "import math\n",
      "import statsmodels.api as sm"
     ],
     "language": "python",
     "metadata": {},
     "outputs": [],
     "prompt_number": 3
    },
    {
     "cell_type": "code",
     "collapsed": false,
     "input": [
      "def url_to_soup(url):\n",
      "    \"\"\"takes a url and turns it into a beautiful soup object\"\"\"\n",
      "    page = urllib2.urlopen(url)\n",
      "    soup = BeautifulSoup(page)\n",
      "    return soup"
     ],
     "language": "python",
     "metadata": {},
     "outputs": [],
     "prompt_number": 4
    },
    {
     "cell_type": "code",
     "collapsed": false,
     "input": [
      "mojo_numbers =  pickle.load(open(\"mojo_number_pickle1.pkl\",\"rb\"))"
     ],
     "language": "python",
     "metadata": {},
     "outputs": [],
     "prompt_number": 5
    },
    {
     "cell_type": "code",
     "collapsed": false,
     "input": [
      "mojo_with_theaters_df = pickle.load(open(\"mojo_number_theater_df1.pkl\",\"rb\"))"
     ],
     "language": "python",
     "metadata": {},
     "outputs": [],
     "prompt_number": 6
    },
    {
     "cell_type": "code",
     "collapsed": false,
     "input": [
      "inflation_dict = pickle.load( open( \"inflation_dict.pkl\", \"rb\" ) )"
     ],
     "language": "python",
     "metadata": {},
     "outputs": [],
     "prompt_number": 7
    },
    {
     "cell_type": "code",
     "collapsed": false,
     "input": [
      "inflation_dict[2015]"
     ],
     "language": "python",
     "metadata": {},
     "outputs": [
      {
       "metadata": {},
       "output_type": "pyout",
       "prompt_number": 8,
       "text": [
        "1.0"
       ]
      }
     ],
     "prompt_number": 8
    },
    {
     "cell_type": "code",
     "collapsed": false,
     "input": [
      "mojo_numbers['ProductionBudget']=mojo_numbers['Production Budget'].apply(lambda x: int(x.replace('$','').replace(',','')))"
     ],
     "language": "python",
     "metadata": {},
     "outputs": [],
     "prompt_number": 9
    },
    {
     "cell_type": "code",
     "collapsed": false,
     "input": [
      "budget_adj =[]\n",
      "for i,date_budg in mojo_numbers[['Release Date','ProductionBudget']].iterrows():\n",
      "    year = int(date_budg[0].split('/')[2])\n",
      "    budg =  date_budg[1]\n",
      "    adj_budget = inflation_dict[year]*budg\n",
      "    budget_adj.append(adj_budget)"
     ],
     "language": "python",
     "metadata": {},
     "outputs": [],
     "prompt_number": 17
    },
    {
     "cell_type": "code",
     "collapsed": false,
     "input": [
      "del(mojo_numbers['Production Budget'])"
     ],
     "language": "python",
     "metadata": {},
     "outputs": [],
     "prompt_number": 11
    },
    {
     "cell_type": "code",
     "collapsed": false,
     "input": [
      "budget_adj[1]"
     ],
     "language": "python",
     "metadata": {},
     "outputs": [
      {
       "metadata": {},
       "output_type": "pyout",
       "prompt_number": 19,
       "text": [
        "348270000.0"
       ]
      }
     ],
     "prompt_number": 19
    },
    {
     "cell_type": "code",
     "collapsed": false,
     "input": [
      "mojo_numbers['adj_Buget']=budget_adj"
     ],
     "language": "python",
     "metadata": {},
     "outputs": [],
     "prompt_number": 20
    },
    {
     "cell_type": "code",
     "collapsed": false,
     "input": [
      "mojo_numbers.head()"
     ],
     "language": "python",
     "metadata": {},
     "outputs": [
      {
       "html": [
        "<div style=\"max-height:1000px;max-width:1500px;overflow:auto;\">\n",
        "<table border=\"1\" class=\"dataframe\">\n",
        "  <thead>\n",
        "    <tr style=\"text-align: right;\">\n",
        "      <th></th>\n",
        "      <th>Movie</th>\n",
        "      <th>bmojo_15_link</th>\n",
        "      <th>Release Date</th>\n",
        "      <th>Production Budget</th>\n",
        "    </tr>\n",
        "  </thead>\n",
        "  <tbody>\n",
        "    <tr>\n",
        "      <th>0</th>\n",
        "      <td>                                   Avatar</td>\n",
        "      <td> http://www.boxofficemojo.com/movies/?id=avatar...</td>\n",
        "      <td> 12/18/2009</td>\n",
        "      <td> $425,000,000</td>\n",
        "    </tr>\n",
        "    <tr>\n",
        "      <th>1</th>\n",
        "      <td> Pirates of the Caribbean: At World's End</td>\n",
        "      <td> http://www.boxofficemojo.com/movies/?id=pirate...</td>\n",
        "      <td>  5/24/2007</td>\n",
        "      <td> $300,000,000</td>\n",
        "    </tr>\n",
        "    <tr>\n",
        "      <th>2</th>\n",
        "      <td>                    The Dark Knight Rises</td>\n",
        "      <td> http://www.boxofficemojo.com/movies/?id=batman...</td>\n",
        "      <td>  7/20/2012</td>\n",
        "      <td> $275,000,000</td>\n",
        "    </tr>\n",
        "    <tr>\n",
        "      <th>3</th>\n",
        "      <td>                          The Lone Ranger</td>\n",
        "      <td> http://www.boxofficemojo.com/movies/?id=lonera...</td>\n",
        "      <td>   7/2/2013</td>\n",
        "      <td> $275,000,000</td>\n",
        "    </tr>\n",
        "    <tr>\n",
        "      <th>4</th>\n",
        "      <td>                              John Carter</td>\n",
        "      <td> http://www.boxofficemojo.com/movies/?id=johnca...</td>\n",
        "      <td>   3/9/2012</td>\n",
        "      <td> $275,000,000</td>\n",
        "    </tr>\n",
        "  </tbody>\n",
        "</table>\n",
        "</div>"
       ],
       "metadata": {},
       "output_type": "pyout",
       "prompt_number": 9,
       "text": [
        "                                      Movie  \\\n",
        "0                                    Avatar   \n",
        "1  Pirates of the Caribbean: At World's End   \n",
        "2                     The Dark Knight Rises   \n",
        "3                           The Lone Ranger   \n",
        "4                               John Carter   \n",
        "\n",
        "                                       bmojo_15_link Release Date  \\\n",
        "0  http://www.boxofficemojo.com/movies/?id=avatar...   12/18/2009   \n",
        "1  http://www.boxofficemojo.com/movies/?id=pirate...    5/24/2007   \n",
        "2  http://www.boxofficemojo.com/movies/?id=batman...    7/20/2012   \n",
        "3  http://www.boxofficemojo.com/movies/?id=lonera...     7/2/2013   \n",
        "4  http://www.boxofficemojo.com/movies/?id=johnca...     3/9/2012   \n",
        "\n",
        "  Production Budget  \n",
        "0      $425,000,000  \n",
        "1      $300,000,000  \n",
        "2      $275,000,000  \n",
        "3      $275,000,000  \n",
        "4      $275,000,000  "
       ]
      }
     ],
     "prompt_number": 9
    },
    {
     "cell_type": "code",
     "collapsed": false,
     "input": [
      "mojo_with_theaters_df.head()"
     ],
     "language": "python",
     "metadata": {},
     "outputs": [
      {
       "html": [
        "<div style=\"max-height:1000px;max-width:1500px;overflow:auto;\">\n",
        "<table border=\"1\" class=\"dataframe\">\n",
        "  <thead>\n",
        "    <tr style=\"text-align: right;\">\n",
        "      <th></th>\n",
        "      <th>bmojo_15_link</th>\n",
        "      <th>adj_Gross</th>\n",
        "      <th>Ratting</th>\n",
        "      <th>Genre</th>\n",
        "      <th>ReleaseDate</th>\n",
        "      <th>o_theater</th>\n",
        "    </tr>\n",
        "  </thead>\n",
        "  <tbody>\n",
        "    <tr>\n",
        "      <th>0</th>\n",
        "      <td> http://www.boxofficemojo.com/movies/?id=avatar...</td>\n",
        "      <td> 796004400</td>\n",
        "      <td> PG-13</td>\n",
        "      <td> Sci-Fi Adventure</td>\n",
        "      <td>2009-12-18</td>\n",
        "      <td> 3452</td>\n",
        "    </tr>\n",
        "    <tr>\n",
        "      <th>1</th>\n",
        "      <td> http://www.boxofficemojo.com/movies/?id=pirate...</td>\n",
        "      <td> 373283400</td>\n",
        "      <td> PG-13</td>\n",
        "      <td> Period Adventure</td>\n",
        "      <td>2007-05-25</td>\n",
        "      <td> 4362</td>\n",
        "    </tr>\n",
        "    <tr>\n",
        "      <th>2</th>\n",
        "      <td> http://www.boxofficemojo.com/movies/?id=batman...</td>\n",
        "      <td> 478091800</td>\n",
        "      <td> PG-13</td>\n",
        "      <td>  Action Thriller</td>\n",
        "      <td>2012-07-20</td>\n",
        "      <td> 4404</td>\n",
        "    </tr>\n",
        "    <tr>\n",
        "      <th>3</th>\n",
        "      <td> http://www.boxofficemojo.com/movies/?id=lonera...</td>\n",
        "      <td>  94533700</td>\n",
        "      <td> PG-13</td>\n",
        "      <td>          Western</td>\n",
        "      <td>2013-07-03</td>\n",
        "      <td> 3904</td>\n",
        "    </tr>\n",
        "    <tr>\n",
        "      <th>4</th>\n",
        "      <td> http://www.boxofficemojo.com/movies/?id=johnca...</td>\n",
        "      <td>  76355300</td>\n",
        "      <td> PG-13</td>\n",
        "      <td> Sci-Fi Adventure</td>\n",
        "      <td>2012-03-09</td>\n",
        "      <td> 3749</td>\n",
        "    </tr>\n",
        "  </tbody>\n",
        "</table>\n",
        "</div>"
       ],
       "metadata": {},
       "output_type": "pyout",
       "prompt_number": 82,
       "text": [
        "                                       bmojo_15_link  adj_Gross Ratting  \\\n",
        "0  http://www.boxofficemojo.com/movies/?id=avatar...  796004400   PG-13   \n",
        "1  http://www.boxofficemojo.com/movies/?id=pirate...  373283400   PG-13   \n",
        "2  http://www.boxofficemojo.com/movies/?id=batman...  478091800   PG-13   \n",
        "3  http://www.boxofficemojo.com/movies/?id=lonera...   94533700   PG-13   \n",
        "4  http://www.boxofficemojo.com/movies/?id=johnca...   76355300   PG-13   \n",
        "\n",
        "              Genre ReleaseDate o_theater  \n",
        "0  Sci-Fi Adventure  2009-12-18      3452  \n",
        "1  Period Adventure  2007-05-25      4362  \n",
        "2   Action Thriller  2012-07-20      4404  \n",
        "3           Western  2013-07-03      3904  \n",
        "4  Sci-Fi Adventure  2012-03-09      3749  "
       ]
      }
     ],
     "prompt_number": 82
    },
    {
     "cell_type": "code",
     "collapsed": false,
     "input": [
      "del(mojo_with_theaters_df['w_theater'])"
     ],
     "language": "python",
     "metadata": {},
     "outputs": [],
     "prompt_number": 29
    },
    {
     "cell_type": "heading",
     "level": 1,
     "metadata": {},
     "source": [
      "Cleaning the number of opening theaters"
     ]
    },
    {
     "cell_type": "code",
     "collapsed": false,
     "input": [
      "mojo_with_theaters_df.dropna()"
     ],
     "language": "python",
     "metadata": {},
     "outputs": [
      {
       "html": [
        "<div style=\"max-height:1000px;max-width:1500px;overflow:auto;\">\n",
        "<table border=\"1\" class=\"dataframe\">\n",
        "  <thead>\n",
        "    <tr style=\"text-align: right;\">\n",
        "      <th></th>\n",
        "      <th>bmojo_15_link</th>\n",
        "      <th>adj_Gross</th>\n",
        "      <th>Ratting</th>\n",
        "      <th>Genre</th>\n",
        "      <th>ReleaseDate</th>\n",
        "      <th>o_theater</th>\n",
        "    </tr>\n",
        "  </thead>\n",
        "  <tbody>\n",
        "    <tr>\n",
        "      <th>0   </th>\n",
        "      <td> http://www.boxofficemojo.com/movies/?id=avatar...</td>\n",
        "      <td> 796004400</td>\n",
        "      <td>   PG-13</td>\n",
        "      <td>   Sci-Fi Adventure</td>\n",
        "      <td>2009-12-18</td>\n",
        "      <td> (#1 rank, 3,452 theaters, $24,300 average)</td>\n",
        "    </tr>\n",
        "    <tr>\n",
        "      <th>1   </th>\n",
        "      <td> http://www.boxofficemojo.com/movies/?id=pirate...</td>\n",
        "      <td> 373283400</td>\n",
        "      <td>   PG-13</td>\n",
        "      <td>   Period Adventure</td>\n",
        "      <td>2007-05-25</td>\n",
        "      <td> (#1 rank, 4,362 theaters, $31,700 average)</td>\n",
        "    </tr>\n",
        "    <tr>\n",
        "      <th>2   </th>\n",
        "      <td> http://www.boxofficemojo.com/movies/?id=batman...</td>\n",
        "      <td> 478091800</td>\n",
        "      <td>   PG-13</td>\n",
        "      <td>    Action Thriller</td>\n",
        "      <td>2012-07-20</td>\n",
        "      <td> (#1 rank, 4,404 theaters, $39,000 average)</td>\n",
        "    </tr>\n",
        "    <tr>\n",
        "      <th>3   </th>\n",
        "      <td> http://www.boxofficemojo.com/movies/?id=lonera...</td>\n",
        "      <td>  94533700</td>\n",
        "      <td>   PG-13</td>\n",
        "      <td>            Western</td>\n",
        "      <td>2013-07-03</td>\n",
        "      <td>  (#2 rank, 3,904 theaters, $7,900 average)</td>\n",
        "    </tr>\n",
        "    <tr>\n",
        "      <th>4   </th>\n",
        "      <td> http://www.boxofficemojo.com/movies/?id=johnca...</td>\n",
        "      <td>  76355300</td>\n",
        "      <td>   PG-13</td>\n",
        "      <td>   Sci-Fi Adventure</td>\n",
        "      <td>2012-03-09</td>\n",
        "      <td>  (#2 rank, 3,749 theaters, $8,400 average)</td>\n",
        "    </tr>\n",
        "    <tr>\n",
        "      <th>5   </th>\n",
        "      <td> http://www.boxofficemojo.com/movies/?id=rapunz...</td>\n",
        "      <td> 208939100</td>\n",
        "      <td>      PG</td>\n",
        "      <td>          Animation</td>\n",
        "      <td>2010-11-24</td>\n",
        "      <td> (#2 rank, 3,603 theaters, $14,000 average)</td>\n",
        "    </tr>\n",
        "    <tr>\n",
        "      <th>6   </th>\n",
        "      <td> http://www.boxofficemojo.com/movies/?id=spider...</td>\n",
        "      <td> 405988600</td>\n",
        "      <td>   PG-13</td>\n",
        "      <td> Action / Adventure</td>\n",
        "      <td>2007-05-04</td>\n",
        "      <td> (#1 rank, 4,252 theaters, $42,900 average)</td>\n",
        "    </tr>\n",
        "    <tr>\n",
        "      <th>7   </th>\n",
        "      <td> http://www.boxofficemojo.com/movies/?id=hobbit...</td>\n",
        "      <td> 314032100</td>\n",
        "      <td>   PG-13</td>\n",
        "      <td>            Fantasy</td>\n",
        "      <td>2012-12-14</td>\n",
        "      <td> (#1 rank, 4,045 theaters, $21,600 average)</td>\n",
        "    </tr>\n",
        "    <tr>\n",
        "      <th>8   </th>\n",
        "      <td> http://www.boxofficemojo.com/movies/?id=harryp...</td>\n",
        "      <td> 335910300</td>\n",
        "      <td>      PG</td>\n",
        "      <td>            Fantasy</td>\n",
        "      <td>2009-07-15</td>\n",
        "      <td> (#1 rank, 4,325 theaters, $20,000 average)</td>\n",
        "    </tr>\n",
        "    <tr>\n",
        "      <th>9   </th>\n",
        "      <td> http://www.boxofficemojo.com/movies/?id=hobbit...</td>\n",
        "      <td> 261575300</td>\n",
        "      <td>   PG-13</td>\n",
        "      <td>            Fantasy</td>\n",
        "      <td>2013-12-13</td>\n",
        "      <td> (#1 rank, 3,903 theaters, $18,800 average)</td>\n",
        "    </tr>\n",
        "    <tr>\n",
        "      <th>10  </th>\n",
        "      <td> http://www.boxofficemojo.com/movies/?id=hobbit...</td>\n",
        "      <td> 249746300</td>\n",
        "      <td>   PG-13</td>\n",
        "      <td>            Fantasy</td>\n",
        "      <td>2014-12-17</td>\n",
        "      <td> (#1 rank, 3,875 theaters, $14,100 average)</td>\n",
        "    </tr>\n",
        "    <tr>\n",
        "      <th>11  </th>\n",
        "      <td> http://www.boxofficemojo.com/movies/?id=pirate...</td>\n",
        "      <td> 248398300</td>\n",
        "      <td>   PG-13</td>\n",
        "      <td>   Period Adventure</td>\n",
        "      <td>2011-05-20</td>\n",
        "      <td> (#1 rank, 4,155 theaters, $22,300 average)</td>\n",
        "    </tr>\n",
        "    <tr>\n",
        "      <th>12  </th>\n",
        "      <td> http://www.boxofficemojo.com/movies/?id=superm...</td>\n",
        "      <td> 253538000</td>\n",
        "      <td>   PG-13</td>\n",
        "      <td> Action / Adventure</td>\n",
        "      <td>2006-06-28</td>\n",
        "      <td> (#1 rank, 4,065 theaters, $16,400 average)</td>\n",
        "    </tr>\n",
        "    <tr>\n",
        "      <th>13  </th>\n",
        "      <td> http://www.boxofficemojo.com/movies/?id=jamesb...</td>\n",
        "      <td> 194632000</td>\n",
        "      <td>   PG-13</td>\n",
        "      <td>             Action</td>\n",
        "      <td>2008-11-14</td>\n",
        "      <td> (#1 rank, 3,451 theaters, $22,600 average)</td>\n",
        "    </tr>\n",
        "    <tr>\n",
        "      <th>14  </th>\n",
        "      <td> http://www.boxofficemojo.com/movies/?id=avenge...</td>\n",
        "      <td> 637176200</td>\n",
        "      <td>   PG-13</td>\n",
        "      <td> Action / Adventure</td>\n",
        "      <td>2012-05-04</td>\n",
        "      <td> (#1 rank, 4,349 theaters, $48,800 average)</td>\n",
        "    </tr>\n",
        "    <tr>\n",
        "      <th>15  </th>\n",
        "      <td> http://www.boxofficemojo.com/movies/?id=avenge...</td>\n",
        "      <td> 637176200</td>\n",
        "      <td>   PG-13</td>\n",
        "      <td> Action / Adventure</td>\n",
        "      <td>2012-05-04</td>\n",
        "      <td> (#1 rank, 4,349 theaters, $48,800 average)</td>\n",
        "    </tr>\n",
        "    <tr>\n",
        "      <th>16  </th>\n",
        "      <td> http://www.boxofficemojo.com/movies/?id=avenge...</td>\n",
        "      <td>  41384900</td>\n",
        "      <td>   PG-13</td>\n",
        "      <td>      Action Comedy</td>\n",
        "      <td>1998-08-14</td>\n",
        "      <td>  (#3 rank, 2,466 theaters, $7,400 average)</td>\n",
        "    </tr>\n",
        "    <tr>\n",
        "      <th>17  </th>\n",
        "      <td> http://www.boxofficemojo.com/movies/?id=avenge...</td>\n",
        "      <td>  41384900</td>\n",
        "      <td>   PG-13</td>\n",
        "      <td>      Action Comedy</td>\n",
        "      <td>1998-08-14</td>\n",
        "      <td>  (#3 rank, 2,466 theaters, $7,400 average)</td>\n",
        "    </tr>\n",
        "    <tr>\n",
        "      <th>18  </th>\n",
        "      <td> http://www.boxofficemojo.com/movies/?id=pirate...</td>\n",
        "      <td> 536415500</td>\n",
        "      <td>   PG-13</td>\n",
        "      <td>   Period Adventure</td>\n",
        "      <td>2006-07-07</td>\n",
        "      <td> (#1 rank, 4,133 theaters, $41,600 average)</td>\n",
        "    </tr>\n",
        "    <tr>\n",
        "      <th>19  </th>\n",
        "      <td> http://www.boxofficemojo.com/movies/?id=superm...</td>\n",
        "      <td> 288267000</td>\n",
        "      <td>   PG-13</td>\n",
        "      <td> Action / Adventure</td>\n",
        "      <td>2013-06-14</td>\n",
        "      <td> (#1 rank, 4,207 theaters, $27,500 average)</td>\n",
        "    </tr>\n",
        "    <tr>\n",
        "      <th>20  </th>\n",
        "      <td> http://www.boxofficemojo.com/movies/?id=narnia...</td>\n",
        "      <td> 163712900</td>\n",
        "      <td>      PG</td>\n",
        "      <td>            Fantasy</td>\n",
        "      <td>2008-05-16</td>\n",
        "      <td> (#1 rank, 3,929 theaters, $16,200 average)</td>\n",
        "    </tr>\n",
        "    <tr>\n",
        "      <th>21  </th>\n",
        "      <td> http://www.boxofficemojo.com/movies/?id=spider...</td>\n",
        "      <td> 279544300</td>\n",
        "      <td>   PG-13</td>\n",
        "      <td> Action / Adventure</td>\n",
        "      <td>2012-07-03</td>\n",
        "      <td> (#1 rank, 4,318 theaters, $15,300 average)</td>\n",
        "    </tr>\n",
        "    <tr>\n",
        "      <th>22  </th>\n",
        "      <td> http://www.boxofficemojo.com/movies/?id=transf...</td>\n",
        "      <td> 447377700</td>\n",
        "      <td>   PG-13</td>\n",
        "      <td>      Sci-Fi Action</td>\n",
        "      <td>2009-06-24</td>\n",
        "      <td> (#1 rank, 4,234 theaters, $28,600 average)</td>\n",
        "    </tr>\n",
        "    <tr>\n",
        "      <th>23  </th>\n",
        "      <td> http://www.boxofficemojo.com/movies/?id=transf...</td>\n",
        "      <td> 252121800</td>\n",
        "      <td>   PG-13</td>\n",
        "      <td>      Sci-Fi Action</td>\n",
        "      <td>2014-06-27</td>\n",
        "      <td> (#1 rank, 4,233 theaters, $23,500 average)</td>\n",
        "    </tr>\n",
        "    <tr>\n",
        "      <th>24  </th>\n",
        "      <td> http://www.boxofficemojo.com/movies/?id=x3.htm...</td>\n",
        "      <td> 296978400</td>\n",
        "      <td>   PG-13</td>\n",
        "      <td> Action / Adventure</td>\n",
        "      <td>2006-05-26</td>\n",
        "      <td> (#1 rank, 3,690 theaters, $35,300 average)</td>\n",
        "    </tr>\n",
        "    <tr>\n",
        "      <th>25  </th>\n",
        "      <td> http://www.boxofficemojo.com/movies/?id=nottin...</td>\n",
        "      <td> 109904300</td>\n",
        "      <td>   PG-13</td>\n",
        "      <td>   Period Adventure</td>\n",
        "      <td>2010-05-14</td>\n",
        "      <td> (#2 rank, 3,503 theaters, $10,800 average)</td>\n",
        "    </tr>\n",
        "    <tr>\n",
        "      <th>26  </th>\n",
        "      <td> http://www.boxofficemojo.com/movies/?id=battle...</td>\n",
        "      <td>  66960300</td>\n",
        "      <td>   PG-13</td>\n",
        "      <td>             Action</td>\n",
        "      <td>2012-05-18</td>\n",
        "      <td>  (#2 rank, 3,690 theaters, $7,100 average)</td>\n",
        "    </tr>\n",
        "    <tr>\n",
        "      <th>27  </th>\n",
        "      <td> http://www.boxofficemojo.com/movies/?id=kingko...</td>\n",
        "      <td> 280296000</td>\n",
        "      <td>   PG-13</td>\n",
        "      <td>   Period Adventure</td>\n",
        "      <td>2005-12-14</td>\n",
        "      <td> (#1 rank, 3,568 theaters, $18,200 average)</td>\n",
        "    </tr>\n",
        "    <tr>\n",
        "      <th>28  </th>\n",
        "      <td> http://www.boxofficemojo.com/movies/?id=kingko...</td>\n",
        "      <td> 280296000</td>\n",
        "      <td>   PG-13</td>\n",
        "      <td>   Period Adventure</td>\n",
        "      <td>2005-12-14</td>\n",
        "      <td> (#1 rank, 3,568 theaters, $18,200 average)</td>\n",
        "    </tr>\n",
        "    <tr>\n",
        "      <th>29  </th>\n",
        "      <td> http://www.boxofficemojo.com/movies/?id=kingko...</td>\n",
        "      <td> 205023400</td>\n",
        "      <td>      PG</td>\n",
        "      <td>          Adventure</td>\n",
        "      <td>1976-12-17</td>\n",
        "      <td>   (#1 rank, 974 theaters, $28,100 average)</td>\n",
        "    </tr>\n",
        "    <tr>\n",
        "      <th>...</th>\n",
        "      <td>...</td>\n",
        "      <td>...</td>\n",
        "      <td>...</td>\n",
        "      <td>...</td>\n",
        "      <td>...</td>\n",
        "      <td>...</td>\n",
        "    </tr>\n",
        "    <tr>\n",
        "      <th>3850</th>\n",
        "      <td> http://www.boxofficemojo.com/movies/?id=pi.htm...</td>\n",
        "      <td>   5700500</td>\n",
        "      <td>       R</td>\n",
        "      <td>    Sci-Fi Thriller</td>\n",
        "      <td>1998-07-10</td>\n",
        "      <td>              (1 theaters, $55,000 average)</td>\n",
        "    </tr>\n",
        "    <tr>\n",
        "      <th>3851</th>\n",
        "      <td> http://www.boxofficemojo.com/movies/?id=20date...</td>\n",
        "      <td>    885000</td>\n",
        "      <td>       R</td>\n",
        "      <td>            Unknown</td>\n",
        "      <td>1999-02-26</td>\n",
        "      <td>    (#58 rank, 3 theaters, $21,900 average)</td>\n",
        "    </tr>\n",
        "    <tr>\n",
        "      <th>3852</th>\n",
        "      <td> http://www.boxofficemojo.com/movies/?id=supers...</td>\n",
        "      <td>  15419100</td>\n",
        "      <td>   PG-13</td>\n",
        "      <td>        Documentary</td>\n",
        "      <td>2004-05-07</td>\n",
        "      <td>   (#20 rank, 41 theaters, $16,800 average)</td>\n",
        "    </tr>\n",
        "    <tr>\n",
        "      <th>3853</th>\n",
        "      <td> http://www.boxofficemojo.com/movies/?id=suppor...</td>\n",
        "      <td>      5100</td>\n",
        "      <td> Unrated</td>\n",
        "      <td>             Comedy</td>\n",
        "      <td>2013-01-25</td>\n",
        "      <td>                                ?1 theaters</td>\n",
        "    </tr>\n",
        "    <tr>\n",
        "      <th>3854</th>\n",
        "      <td> http://www.boxofficemojo.com/movies/?id=fp.htm...</td>\n",
        "      <td>     42300</td>\n",
        "      <td>       R</td>\n",
        "      <td>             Comedy</td>\n",
        "      <td>2012-03-16</td>\n",
        "      <td>      (#69 rank, 28 theaters, $600 average)</td>\n",
        "    </tr>\n",
        "    <tr>\n",
        "      <th>3855</th>\n",
        "      <td> http://www.boxofficemojo.com/movies/?id=brothe...</td>\n",
        "      <td>  19894300</td>\n",
        "      <td>       R</td>\n",
        "      <td>             Comedy</td>\n",
        "      <td>1995-08-11</td>\n",
        "      <td>              (7 theaters, $45,700 average)</td>\n",
        "    </tr>\n",
        "    <tr>\n",
        "      <th>3856</th>\n",
        "      <td> http://www.boxofficemojo.com/movies/?id=gabrie...</td>\n",
        "      <td>   3424600</td>\n",
        "      <td>       R</td>\n",
        "      <td>            Romance</td>\n",
        "      <td>2001-03-16</td>\n",
        "      <td>    (#52 rank, 11 theaters, $8,500 average)</td>\n",
        "    </tr>\n",
        "    <tr>\n",
        "      <th>3857</th>\n",
        "      <td> http://www.boxofficemojo.com/movies/?id=tinyfu...</td>\n",
        "      <td>    408300</td>\n",
        "      <td> Unrated</td>\n",
        "      <td>             Comedy</td>\n",
        "      <td>2010-11-12</td>\n",
        "      <td>    (#53 rank, 1 theaters, $22,000 average)</td>\n",
        "    </tr>\n",
        "    <tr>\n",
        "      <th>3858</th>\n",
        "      <td> http://www.boxofficemojo.com/movies/?id=signal...</td>\n",
        "      <td>    290300</td>\n",
        "      <td>       R</td>\n",
        "      <td>             Horror</td>\n",
        "      <td>2008-02-22</td>\n",
        "      <td>   (#37 rank, 160 theaters, $1,000 average)</td>\n",
        "    </tr>\n",
        "    <tr>\n",
        "      <th>3859</th>\n",
        "      <td> http://www.boxofficemojo.com/movies/?id=theexp...</td>\n",
        "      <td>     26700</td>\n",
        "      <td> Unrated</td>\n",
        "      <td>              Drama</td>\n",
        "      <td>2010-03-12</td>\n",
        "      <td>     (#71 rank, 1 theaters, $6,200 average)</td>\n",
        "    </tr>\n",
        "    <tr>\n",
        "      <th>3860</th>\n",
        "      <td> http://www.boxofficemojo.com/movies/?id=lastwa...</td>\n",
        "      <td>    460500</td>\n",
        "      <td>      PG</td>\n",
        "      <td>            Concert</td>\n",
        "      <td>2002-04-05</td>\n",
        "      <td>    (#61 rank, 1 theaters, $23,100 average)</td>\n",
        "    </tr>\n",
        "    <tr>\n",
        "      <th>3861</th>\n",
        "      <td> http://www.boxofficemojo.com/movies/?id=legend...</td>\n",
        "      <td>    280000</td>\n",
        "      <td>       R</td>\n",
        "      <td>            Western</td>\n",
        "      <td>2008-07-18</td>\n",
        "      <td>     (#60 rank, 3 theaters, $5,800 average)</td>\n",
        "    </tr>\n",
        "    <tr>\n",
        "      <th>3862</th>\n",
        "      <td> http://www.boxofficemojo.com/movies/?id=mutual...</td>\n",
        "      <td>    130300</td>\n",
        "      <td>   PG-13</td>\n",
        "      <td>             Comedy</td>\n",
        "      <td>2006-09-01</td>\n",
        "      <td>    (#74 rank, 1 theaters, $16,700 average)</td>\n",
        "    </tr>\n",
        "    <tr>\n",
        "      <th>3863</th>\n",
        "      <td> http://www.boxofficemojo.com/movies/?id=funnyh...</td>\n",
        "      <td>     99800</td>\n",
        "      <td> Unrated</td>\n",
        "      <td>             Comedy</td>\n",
        "      <td>2005-04-29</td>\n",
        "      <td>     (#77 rank, 2 theaters, $6,800 average)</td>\n",
        "    </tr>\n",
        "    <tr>\n",
        "      <th>3864</th>\n",
        "      <td> http://www.boxofficemojo.com/movies/?id=downte...</td>\n",
        "      <td>     10200</td>\n",
        "      <td>       R</td>\n",
        "      <td>             Comedy</td>\n",
        "      <td>2010-10-15</td>\n",
        "      <td>    (#102 rank, 2 theaters, $1,600 average)</td>\n",
        "    </tr>\n",
        "    <tr>\n",
        "      <th>3865</th>\n",
        "      <td> http://www.boxofficemojo.com/movies/?id=clerks...</td>\n",
        "      <td>   6257000</td>\n",
        "      <td>       R</td>\n",
        "      <td>             Comedy</td>\n",
        "      <td>1994-10-19</td>\n",
        "      <td>              (2 theaters, $31,400 average)</td>\n",
        "    </tr>\n",
        "    <tr>\n",
        "      <th>3866</th>\n",
        "      <td> http://www.boxofficemojo.com/movies/?id=inthec...</td>\n",
        "      <td>   5071300</td>\n",
        "      <td>       R</td>\n",
        "      <td>              Drama</td>\n",
        "      <td>1997-08-01</td>\n",
        "      <td>              (8 theaters, $22,600 average)</td>\n",
        "    </tr>\n",
        "    <tr>\n",
        "      <th>3867</th>\n",
        "      <td> http://www.boxofficemojo.com/movies/?id=terror...</td>\n",
        "      <td>    236600</td>\n",
        "      <td> Unrated</td>\n",
        "      <td>            Unknown</td>\n",
        "      <td>2000-01-14</td>\n",
        "      <td>              (1 theaters, $21,100 average)</td>\n",
        "    </tr>\n",
        "    <tr>\n",
        "      <th>3868</th>\n",
        "      <td> http://www.boxofficemojo.com/movies/?id=manito...</td>\n",
        "      <td>     15100</td>\n",
        "      <td> Unrated</td>\n",
        "      <td>            Unknown</td>\n",
        "      <td>2003-06-13</td>\n",
        "      <td>     (#76 rank, 5 theaters, $3,000 average)</td>\n",
        "    </tr>\n",
        "    <tr>\n",
        "      <th>3869</th>\n",
        "      <td> http://www.boxofficemojo.com/movies/?id=puffyc...</td>\n",
        "      <td>    246500</td>\n",
        "      <td>       R</td>\n",
        "      <td>             Comedy</td>\n",
        "      <td>2006-06-02</td>\n",
        "      <td>     (#50 rank, 7 theaters, $4,700 average)</td>\n",
        "    </tr>\n",
        "    <tr>\n",
        "      <th>3870</th>\n",
        "      <td> http://www.boxofficemojo.com/movies/?id=breaki...</td>\n",
        "      <td>     80800</td>\n",
        "      <td> Unrated</td>\n",
        "      <td>            Romance</td>\n",
        "      <td>2010-04-02</td>\n",
        "      <td>    (#57 rank, 1 theaters, $16,300 average)</td>\n",
        "    </tr>\n",
        "    <tr>\n",
        "      <th>3871</th>\n",
        "      <td> http://www.boxofficemojo.com/movies/?id=clean....</td>\n",
        "      <td>    175800</td>\n",
        "      <td>       R</td>\n",
        "      <td>              Drama</td>\n",
        "      <td>2006-04-28</td>\n",
        "      <td>     (#68 rank, 2 theaters, $9,500 average)</td>\n",
        "    </tr>\n",
        "    <tr>\n",
        "      <th>3872</th>\n",
        "      <td> http://www.boxofficemojo.com/movies/?id=risean...</td>\n",
        "      <td>       700</td>\n",
        "      <td> Unrated</td>\n",
        "      <td>              Drama</td>\n",
        "      <td>2008-08-14</td>\n",
        "      <td>                                ?1 theaters</td>\n",
        "    </tr>\n",
        "    <tr>\n",
        "      <th>3873</th>\n",
        "      <td> http://www.boxofficemojo.com/movies/?id=newlyw...</td>\n",
        "      <td>      4900</td>\n",
        "      <td> Unrated</td>\n",
        "      <td>     Comedy / Drama</td>\n",
        "      <td>2012-01-13</td>\n",
        "      <td>     (#64 rank, 1 theaters, $4,800 average)</td>\n",
        "    </tr>\n",
        "    <tr>\n",
        "      <th>3874</th>\n",
        "      <td> http://www.boxofficemojo.com/movies/?id=elmari...</td>\n",
        "      <td>   4091700</td>\n",
        "      <td>       R</td>\n",
        "      <td>             Action</td>\n",
        "      <td>1993-02-26</td>\n",
        "      <td>              (66 theaters, $9,500 average)</td>\n",
        "    </tr>\n",
        "    <tr>\n",
        "      <th>3875</th>\n",
        "      <td> http://www.boxofficemojo.com/movies/?id=primer...</td>\n",
        "      <td>    567700</td>\n",
        "      <td>   PG-13</td>\n",
        "      <td>            Unknown</td>\n",
        "      <td>2004-10-08</td>\n",
        "      <td>     (#59 rank, 4 theaters, $9,400 average)</td>\n",
        "    </tr>\n",
        "    <tr>\n",
        "      <th>3876</th>\n",
        "      <td> http://www.boxofficemojo.com/movies/?id=cavite...</td>\n",
        "      <td>     88800</td>\n",
        "      <td> Unrated</td>\n",
        "      <td>           Thriller</td>\n",
        "      <td>2006-05-26</td>\n",
        "      <td>     (#65 rank, 2 theaters, $8,100 average)</td>\n",
        "    </tr>\n",
        "    <tr>\n",
        "      <th>3877</th>\n",
        "      <td> http://www.boxofficemojo.com/movies/?id=follow...</td>\n",
        "      <td>     79200</td>\n",
        "      <td>       R</td>\n",
        "      <td>            Unknown</td>\n",
        "      <td>1999-04-02</td>\n",
        "      <td>                                ?2 theaters</td>\n",
        "    </tr>\n",
        "    <tr>\n",
        "      <th>3878</th>\n",
        "      <td> http://www.boxofficemojo.com/movies/?id=return...</td>\n",
        "      <td>      1700</td>\n",
        "      <td> Unrated</td>\n",
        "      <td>        Documentary</td>\n",
        "      <td>2005-07-13</td>\n",
        "      <td>      (#121 rank, 1 theaters, $500 average)</td>\n",
        "    </tr>\n",
        "    <tr>\n",
        "      <th>3879</th>\n",
        "      <td> http://www.boxofficemojo.com/movies/?id=shangh...</td>\n",
        "      <td>     10900</td>\n",
        "      <td>   PG-13</td>\n",
        "      <td>    Romantic Comedy</td>\n",
        "      <td>2013-02-15</td>\n",
        "      <td>               (4 theaters, $2,700 average)</td>\n",
        "    </tr>\n",
        "  </tbody>\n",
        "</table>\n",
        "<p>3727 rows \u00d7 6 columns</p>\n",
        "</div>"
       ],
       "metadata": {},
       "output_type": "pyout",
       "prompt_number": 32,
       "text": [
        "                                          bmojo_15_link  adj_Gross  Ratting  \\\n",
        "0     http://www.boxofficemojo.com/movies/?id=avatar...  796004400    PG-13   \n",
        "1     http://www.boxofficemojo.com/movies/?id=pirate...  373283400    PG-13   \n",
        "2     http://www.boxofficemojo.com/movies/?id=batman...  478091800    PG-13   \n",
        "3     http://www.boxofficemojo.com/movies/?id=lonera...   94533700    PG-13   \n",
        "4     http://www.boxofficemojo.com/movies/?id=johnca...   76355300    PG-13   \n",
        "5     http://www.boxofficemojo.com/movies/?id=rapunz...  208939100       PG   \n",
        "6     http://www.boxofficemojo.com/movies/?id=spider...  405988600    PG-13   \n",
        "7     http://www.boxofficemojo.com/movies/?id=hobbit...  314032100    PG-13   \n",
        "8     http://www.boxofficemojo.com/movies/?id=harryp...  335910300       PG   \n",
        "9     http://www.boxofficemojo.com/movies/?id=hobbit...  261575300    PG-13   \n",
        "10    http://www.boxofficemojo.com/movies/?id=hobbit...  249746300    PG-13   \n",
        "11    http://www.boxofficemojo.com/movies/?id=pirate...  248398300    PG-13   \n",
        "12    http://www.boxofficemojo.com/movies/?id=superm...  253538000    PG-13   \n",
        "13    http://www.boxofficemojo.com/movies/?id=jamesb...  194632000    PG-13   \n",
        "14    http://www.boxofficemojo.com/movies/?id=avenge...  637176200    PG-13   \n",
        "15    http://www.boxofficemojo.com/movies/?id=avenge...  637176200    PG-13   \n",
        "16    http://www.boxofficemojo.com/movies/?id=avenge...   41384900    PG-13   \n",
        "17    http://www.boxofficemojo.com/movies/?id=avenge...   41384900    PG-13   \n",
        "18    http://www.boxofficemojo.com/movies/?id=pirate...  536415500    PG-13   \n",
        "19    http://www.boxofficemojo.com/movies/?id=superm...  288267000    PG-13   \n",
        "20    http://www.boxofficemojo.com/movies/?id=narnia...  163712900       PG   \n",
        "21    http://www.boxofficemojo.com/movies/?id=spider...  279544300    PG-13   \n",
        "22    http://www.boxofficemojo.com/movies/?id=transf...  447377700    PG-13   \n",
        "23    http://www.boxofficemojo.com/movies/?id=transf...  252121800    PG-13   \n",
        "24    http://www.boxofficemojo.com/movies/?id=x3.htm...  296978400    PG-13   \n",
        "25    http://www.boxofficemojo.com/movies/?id=nottin...  109904300    PG-13   \n",
        "26    http://www.boxofficemojo.com/movies/?id=battle...   66960300    PG-13   \n",
        "27    http://www.boxofficemojo.com/movies/?id=kingko...  280296000    PG-13   \n",
        "28    http://www.boxofficemojo.com/movies/?id=kingko...  280296000    PG-13   \n",
        "29    http://www.boxofficemojo.com/movies/?id=kingko...  205023400       PG   \n",
        "...                                                 ...        ...      ...   \n",
        "3850  http://www.boxofficemojo.com/movies/?id=pi.htm...    5700500        R   \n",
        "3851  http://www.boxofficemojo.com/movies/?id=20date...     885000        R   \n",
        "3852  http://www.boxofficemojo.com/movies/?id=supers...   15419100    PG-13   \n",
        "3853  http://www.boxofficemojo.com/movies/?id=suppor...       5100  Unrated   \n",
        "3854  http://www.boxofficemojo.com/movies/?id=fp.htm...      42300        R   \n",
        "3855  http://www.boxofficemojo.com/movies/?id=brothe...   19894300        R   \n",
        "3856  http://www.boxofficemojo.com/movies/?id=gabrie...    3424600        R   \n",
        "3857  http://www.boxofficemojo.com/movies/?id=tinyfu...     408300  Unrated   \n",
        "3858  http://www.boxofficemojo.com/movies/?id=signal...     290300        R   \n",
        "3859  http://www.boxofficemojo.com/movies/?id=theexp...      26700  Unrated   \n",
        "3860  http://www.boxofficemojo.com/movies/?id=lastwa...     460500       PG   \n",
        "3861  http://www.boxofficemojo.com/movies/?id=legend...     280000        R   \n",
        "3862  http://www.boxofficemojo.com/movies/?id=mutual...     130300    PG-13   \n",
        "3863  http://www.boxofficemojo.com/movies/?id=funnyh...      99800  Unrated   \n",
        "3864  http://www.boxofficemojo.com/movies/?id=downte...      10200        R   \n",
        "3865  http://www.boxofficemojo.com/movies/?id=clerks...    6257000        R   \n",
        "3866  http://www.boxofficemojo.com/movies/?id=inthec...    5071300        R   \n",
        "3867  http://www.boxofficemojo.com/movies/?id=terror...     236600  Unrated   \n",
        "3868  http://www.boxofficemojo.com/movies/?id=manito...      15100  Unrated   \n",
        "3869  http://www.boxofficemojo.com/movies/?id=puffyc...     246500        R   \n",
        "3870  http://www.boxofficemojo.com/movies/?id=breaki...      80800  Unrated   \n",
        "3871  http://www.boxofficemojo.com/movies/?id=clean....     175800        R   \n",
        "3872  http://www.boxofficemojo.com/movies/?id=risean...        700  Unrated   \n",
        "3873  http://www.boxofficemojo.com/movies/?id=newlyw...       4900  Unrated   \n",
        "3874  http://www.boxofficemojo.com/movies/?id=elmari...    4091700        R   \n",
        "3875  http://www.boxofficemojo.com/movies/?id=primer...     567700    PG-13   \n",
        "3876  http://www.boxofficemojo.com/movies/?id=cavite...      88800  Unrated   \n",
        "3877  http://www.boxofficemojo.com/movies/?id=follow...      79200        R   \n",
        "3878  http://www.boxofficemojo.com/movies/?id=return...       1700  Unrated   \n",
        "3879  http://www.boxofficemojo.com/movies/?id=shangh...      10900    PG-13   \n",
        "\n",
        "                   Genre ReleaseDate  \\\n",
        "0       Sci-Fi Adventure  2009-12-18   \n",
        "1       Period Adventure  2007-05-25   \n",
        "2        Action Thriller  2012-07-20   \n",
        "3                Western  2013-07-03   \n",
        "4       Sci-Fi Adventure  2012-03-09   \n",
        "5              Animation  2010-11-24   \n",
        "6     Action / Adventure  2007-05-04   \n",
        "7                Fantasy  2012-12-14   \n",
        "8                Fantasy  2009-07-15   \n",
        "9                Fantasy  2013-12-13   \n",
        "10               Fantasy  2014-12-17   \n",
        "11      Period Adventure  2011-05-20   \n",
        "12    Action / Adventure  2006-06-28   \n",
        "13                Action  2008-11-14   \n",
        "14    Action / Adventure  2012-05-04   \n",
        "15    Action / Adventure  2012-05-04   \n",
        "16         Action Comedy  1998-08-14   \n",
        "17         Action Comedy  1998-08-14   \n",
        "18      Period Adventure  2006-07-07   \n",
        "19    Action / Adventure  2013-06-14   \n",
        "20               Fantasy  2008-05-16   \n",
        "21    Action / Adventure  2012-07-03   \n",
        "22         Sci-Fi Action  2009-06-24   \n",
        "23         Sci-Fi Action  2014-06-27   \n",
        "24    Action / Adventure  2006-05-26   \n",
        "25      Period Adventure  2010-05-14   \n",
        "26                Action  2012-05-18   \n",
        "27      Period Adventure  2005-12-14   \n",
        "28      Period Adventure  2005-12-14   \n",
        "29             Adventure  1976-12-17   \n",
        "...                  ...         ...   \n",
        "3850     Sci-Fi Thriller  1998-07-10   \n",
        "3851             Unknown  1999-02-26   \n",
        "3852         Documentary  2004-05-07   \n",
        "3853              Comedy  2013-01-25   \n",
        "3854              Comedy  2012-03-16   \n",
        "3855              Comedy  1995-08-11   \n",
        "3856             Romance  2001-03-16   \n",
        "3857              Comedy  2010-11-12   \n",
        "3858              Horror  2008-02-22   \n",
        "3859               Drama  2010-03-12   \n",
        "3860             Concert  2002-04-05   \n",
        "3861             Western  2008-07-18   \n",
        "3862              Comedy  2006-09-01   \n",
        "3863              Comedy  2005-04-29   \n",
        "3864              Comedy  2010-10-15   \n",
        "3865              Comedy  1994-10-19   \n",
        "3866               Drama  1997-08-01   \n",
        "3867             Unknown  2000-01-14   \n",
        "3868             Unknown  2003-06-13   \n",
        "3869              Comedy  2006-06-02   \n",
        "3870             Romance  2010-04-02   \n",
        "3871               Drama  2006-04-28   \n",
        "3872               Drama  2008-08-14   \n",
        "3873      Comedy / Drama  2012-01-13   \n",
        "3874              Action  1993-02-26   \n",
        "3875             Unknown  2004-10-08   \n",
        "3876            Thriller  2006-05-26   \n",
        "3877             Unknown  1999-04-02   \n",
        "3878         Documentary  2005-07-13   \n",
        "3879     Romantic Comedy  2013-02-15   \n",
        "\n",
        "                                       o_theater  \n",
        "0     (#1 rank, 3,452 theaters, $24,300 average)  \n",
        "1     (#1 rank, 4,362 theaters, $31,700 average)  \n",
        "2     (#1 rank, 4,404 theaters, $39,000 average)  \n",
        "3      (#2 rank, 3,904 theaters, $7,900 average)  \n",
        "4      (#2 rank, 3,749 theaters, $8,400 average)  \n",
        "5     (#2 rank, 3,603 theaters, $14,000 average)  \n",
        "6     (#1 rank, 4,252 theaters, $42,900 average)  \n",
        "7     (#1 rank, 4,045 theaters, $21,600 average)  \n",
        "8     (#1 rank, 4,325 theaters, $20,000 average)  \n",
        "9     (#1 rank, 3,903 theaters, $18,800 average)  \n",
        "10    (#1 rank, 3,875 theaters, $14,100 average)  \n",
        "11    (#1 rank, 4,155 theaters, $22,300 average)  \n",
        "12    (#1 rank, 4,065 theaters, $16,400 average)  \n",
        "13    (#1 rank, 3,451 theaters, $22,600 average)  \n",
        "14    (#1 rank, 4,349 theaters, $48,800 average)  \n",
        "15    (#1 rank, 4,349 theaters, $48,800 average)  \n",
        "16     (#3 rank, 2,466 theaters, $7,400 average)  \n",
        "17     (#3 rank, 2,466 theaters, $7,400 average)  \n",
        "18    (#1 rank, 4,133 theaters, $41,600 average)  \n",
        "19    (#1 rank, 4,207 theaters, $27,500 average)  \n",
        "20    (#1 rank, 3,929 theaters, $16,200 average)  \n",
        "21    (#1 rank, 4,318 theaters, $15,300 average)  \n",
        "22    (#1 rank, 4,234 theaters, $28,600 average)  \n",
        "23    (#1 rank, 4,233 theaters, $23,500 average)  \n",
        "24    (#1 rank, 3,690 theaters, $35,300 average)  \n",
        "25    (#2 rank, 3,503 theaters, $10,800 average)  \n",
        "26     (#2 rank, 3,690 theaters, $7,100 average)  \n",
        "27    (#1 rank, 3,568 theaters, $18,200 average)  \n",
        "28    (#1 rank, 3,568 theaters, $18,200 average)  \n",
        "29      (#1 rank, 974 theaters, $28,100 average)  \n",
        "...                                          ...  \n",
        "3850               (1 theaters, $55,000 average)  \n",
        "3851     (#58 rank, 3 theaters, $21,900 average)  \n",
        "3852    (#20 rank, 41 theaters, $16,800 average)  \n",
        "3853                                 ?1 theaters  \n",
        "3854       (#69 rank, 28 theaters, $600 average)  \n",
        "3855               (7 theaters, $45,700 average)  \n",
        "3856     (#52 rank, 11 theaters, $8,500 average)  \n",
        "3857     (#53 rank, 1 theaters, $22,000 average)  \n",
        "3858    (#37 rank, 160 theaters, $1,000 average)  \n",
        "3859      (#71 rank, 1 theaters, $6,200 average)  \n",
        "3860     (#61 rank, 1 theaters, $23,100 average)  \n",
        "3861      (#60 rank, 3 theaters, $5,800 average)  \n",
        "3862     (#74 rank, 1 theaters, $16,700 average)  \n",
        "3863      (#77 rank, 2 theaters, $6,800 average)  \n",
        "3864     (#102 rank, 2 theaters, $1,600 average)  \n",
        "3865               (2 theaters, $31,400 average)  \n",
        "3866               (8 theaters, $22,600 average)  \n",
        "3867               (1 theaters, $21,100 average)  \n",
        "3868      (#76 rank, 5 theaters, $3,000 average)  \n",
        "3869      (#50 rank, 7 theaters, $4,700 average)  \n",
        "3870     (#57 rank, 1 theaters, $16,300 average)  \n",
        "3871      (#68 rank, 2 theaters, $9,500 average)  \n",
        "3872                                 ?1 theaters  \n",
        "3873      (#64 rank, 1 theaters, $4,800 average)  \n",
        "3874               (66 theaters, $9,500 average)  \n",
        "3875      (#59 rank, 4 theaters, $9,400 average)  \n",
        "3876      (#65 rank, 2 theaters, $8,100 average)  \n",
        "3877                                 ?2 theaters  \n",
        "3878       (#121 rank, 1 theaters, $500 average)  \n",
        "3879                (4 theaters, $2,700 average)  \n",
        "\n",
        "[3727 rows x 6 columns]"
       ]
      }
     ],
     "prompt_number": 32
    },
    {
     "cell_type": "code",
     "collapsed": false,
     "input": [
      "mojo_with_theaters_df['o_theater'] = mojo_with_theaters_df['o_theater'].apply(lambda x: str(x).split(' th')[0].replace(',','').replace('rank',''))"
     ],
     "language": "python",
     "metadata": {},
     "outputs": [],
     "prompt_number": 47
    },
    {
     "cell_type": "code",
     "collapsed": false,
     "input": [
      "mojo_with_theaters_df['o_theater']=mojo_with_theaters_df['o_theater'].apply(lambda x: x.replace('  ','?').replace('(#','').replace('(','?'))"
     ],
     "language": "python",
     "metadata": {},
     "outputs": [],
     "prompt_number": 75
    },
    {
     "cell_type": "code",
     "collapsed": false,
     "input": [
      "mojo_with_theaters_df['o_theater']=mojo_with_theaters_df['o_theater'].apply(lambda x: x.split('?')[-1])"
     ],
     "language": "python",
     "metadata": {},
     "outputs": [],
     "prompt_number": 81
    },
    {
     "cell_type": "code",
     "collapsed": false,
     "input": [
      "df_for_model_1 = pd.merge(mojo_numbers,mojo_with_theaters_df)"
     ],
     "language": "python",
     "metadata": {},
     "outputs": [],
     "prompt_number": 84
    },
    {
     "cell_type": "code",
     "collapsed": false,
     "input": [
      "def theater_open(o_theater):\n",
      "    \"\"\"takes the string for opening theaters and returns an int or nan\"\"\"\n",
      "    x = str(o_theater).split(' th')[0].replace(',','').replace('rank','')\n",
      "    theaters = int_or_nan(x.replace('  ','?').replace('(#','').replace('(','?').split('?')[-1])\n",
      "    return theaters"
     ],
     "language": "python",
     "metadata": {},
     "outputs": [],
     "prompt_number": 211
    },
    {
     "cell_type": "code",
     "collapsed": false,
     "input": [
      "def theater_wide(w_theater):\n",
      "    \"\"\"takes the string for widest number of theaters and returns an int or nan\"\"\"\n",
      "    theaters = int_or_nan(str(w_theater).split(' t')[0].replace('?','').replace(',',''))\n",
      "    return theaters"
     ],
     "language": "python",
     "metadata": {},
     "outputs": [],
     "prompt_number": 227
    },
    {
     "cell_type": "code",
     "collapsed": false,
     "input": [
      "len(df_for_model_1)"
     ],
     "language": "python",
     "metadata": {},
     "outputs": [
      {
       "metadata": {},
       "output_type": "pyout",
       "prompt_number": 130,
       "text": [
        "3861"
       ]
      }
     ],
     "prompt_number": 130
    },
    {
     "cell_type": "code",
     "collapsed": false,
     "input": [
      "df_for_model_1 = df_for_model_1.dropna()"
     ],
     "language": "python",
     "metadata": {},
     "outputs": [],
     "prompt_number": 129
    },
    {
     "cell_type": "code",
     "collapsed": false,
     "input": [
      "def int_or_nan(string):\n",
      "    \"\"\"turns a string into an iterger if it can, else it return nan\"\"\"\n",
      "    try:\n",
      "       x= int(string)\n",
      "    except:\n",
      "        x = np.nan\n",
      "    return x"
     ],
     "language": "python",
     "metadata": {},
     "outputs": [],
     "prompt_number": 126
    },
    {
     "cell_type": "code",
     "collapsed": false,
     "input": [
      "df_for_model_1['o_theater'] =  df_for_model_1['o_theater'].apply(lambda x: int_or_nan(x))"
     ],
     "language": "python",
     "metadata": {},
     "outputs": [],
     "prompt_number": 128
    },
    {
     "cell_type": "code",
     "collapsed": false,
     "input": [
      "df_for_model_1.head()"
     ],
     "language": "python",
     "metadata": {},
     "outputs": [
      {
       "html": [
        "<div style=\"max-height:1000px;max-width:1500px;overflow:auto;\">\n",
        "<table border=\"1\" class=\"dataframe\">\n",
        "  <thead>\n",
        "    <tr style=\"text-align: right;\">\n",
        "      <th></th>\n",
        "      <th>Movie</th>\n",
        "      <th>bmojo_15_link</th>\n",
        "      <th>ProductionBudget</th>\n",
        "      <th>adj_Buget</th>\n",
        "      <th>adj_Gross</th>\n",
        "      <th>Ratting</th>\n",
        "      <th>Genre</th>\n",
        "      <th>ReleaseDate</th>\n",
        "      <th>o_theater</th>\n",
        "      <th>month</th>\n",
        "      <th>...</th>\n",
        "      <th>December</th>\n",
        "      <th>February</th>\n",
        "      <th>January</th>\n",
        "      <th>July</th>\n",
        "      <th>June</th>\n",
        "      <th>March</th>\n",
        "      <th>May</th>\n",
        "      <th>November</th>\n",
        "      <th>October</th>\n",
        "      <th>September</th>\n",
        "    </tr>\n",
        "  </thead>\n",
        "  <tbody>\n",
        "    <tr>\n",
        "      <th>0</th>\n",
        "      <td>                                   Avatar</td>\n",
        "      <td> http://www.boxofficemojo.com/movies/?id=avatar...</td>\n",
        "      <td> 425000000</td>\n",
        "      <td> 476850000</td>\n",
        "      <td> 796004400</td>\n",
        "      <td> PG-13</td>\n",
        "      <td> Sci-Fi Adventure</td>\n",
        "      <td>2009-12-18</td>\n",
        "      <td> 3452</td>\n",
        "      <td> December</td>\n",
        "      <td>...</td>\n",
        "      <td> 1</td>\n",
        "      <td> 0</td>\n",
        "      <td> 0</td>\n",
        "      <td> 0</td>\n",
        "      <td> 0</td>\n",
        "      <td> 0</td>\n",
        "      <td> 0</td>\n",
        "      <td> 0</td>\n",
        "      <td> 0</td>\n",
        "      <td> 0</td>\n",
        "    </tr>\n",
        "    <tr>\n",
        "      <th>1</th>\n",
        "      <td> Pirates of the Caribbean: At World's End</td>\n",
        "      <td> http://www.boxofficemojo.com/movies/?id=pirate...</td>\n",
        "      <td> 300000000</td>\n",
        "      <td> 348270000</td>\n",
        "      <td> 373283400</td>\n",
        "      <td> PG-13</td>\n",
        "      <td> Period Adventure</td>\n",
        "      <td>2007-05-25</td>\n",
        "      <td> 4362</td>\n",
        "      <td>      May</td>\n",
        "      <td>...</td>\n",
        "      <td> 0</td>\n",
        "      <td> 0</td>\n",
        "      <td> 0</td>\n",
        "      <td> 0</td>\n",
        "      <td> 0</td>\n",
        "      <td> 0</td>\n",
        "      <td> 1</td>\n",
        "      <td> 0</td>\n",
        "      <td> 0</td>\n",
        "      <td> 0</td>\n",
        "    </tr>\n",
        "    <tr>\n",
        "      <th>2</th>\n",
        "      <td>                    The Dark Knight Rises</td>\n",
        "      <td> http://www.boxofficemojo.com/movies/?id=batman...</td>\n",
        "      <td> 275000000</td>\n",
        "      <td> 288337500</td>\n",
        "      <td> 478091800</td>\n",
        "      <td> PG-13</td>\n",
        "      <td>  Action Thriller</td>\n",
        "      <td>2012-07-20</td>\n",
        "      <td> 4404</td>\n",
        "      <td>     July</td>\n",
        "      <td>...</td>\n",
        "      <td> 0</td>\n",
        "      <td> 0</td>\n",
        "      <td> 0</td>\n",
        "      <td> 1</td>\n",
        "      <td> 0</td>\n",
        "      <td> 0</td>\n",
        "      <td> 0</td>\n",
        "      <td> 0</td>\n",
        "      <td> 0</td>\n",
        "      <td> 0</td>\n",
        "    </tr>\n",
        "    <tr>\n",
        "      <th>3</th>\n",
        "      <td>                          The Lone Ranger</td>\n",
        "      <td> http://www.boxofficemojo.com/movies/?id=lonera...</td>\n",
        "      <td> 275000000</td>\n",
        "      <td> 284157500</td>\n",
        "      <td>  94533700</td>\n",
        "      <td> PG-13</td>\n",
        "      <td>          Western</td>\n",
        "      <td>2013-07-03</td>\n",
        "      <td> 3904</td>\n",
        "      <td>     July</td>\n",
        "      <td>...</td>\n",
        "      <td> 0</td>\n",
        "      <td> 0</td>\n",
        "      <td> 0</td>\n",
        "      <td> 1</td>\n",
        "      <td> 0</td>\n",
        "      <td> 0</td>\n",
        "      <td> 0</td>\n",
        "      <td> 0</td>\n",
        "      <td> 0</td>\n",
        "      <td> 0</td>\n",
        "    </tr>\n",
        "    <tr>\n",
        "      <th>4</th>\n",
        "      <td>                              John Carter</td>\n",
        "      <td> http://www.boxofficemojo.com/movies/?id=johnca...</td>\n",
        "      <td> 275000000</td>\n",
        "      <td> 288337500</td>\n",
        "      <td>  76355300</td>\n",
        "      <td> PG-13</td>\n",
        "      <td> Sci-Fi Adventure</td>\n",
        "      <td>2012-03-09</td>\n",
        "      <td> 3749</td>\n",
        "      <td>    March</td>\n",
        "      <td>...</td>\n",
        "      <td> 0</td>\n",
        "      <td> 0</td>\n",
        "      <td> 0</td>\n",
        "      <td> 0</td>\n",
        "      <td> 0</td>\n",
        "      <td> 1</td>\n",
        "      <td> 0</td>\n",
        "      <td> 0</td>\n",
        "      <td> 0</td>\n",
        "      <td> 0</td>\n",
        "    </tr>\n",
        "  </tbody>\n",
        "</table>\n",
        "<p>5 rows \u00d7 22 columns</p>\n",
        "</div>"
       ],
       "metadata": {},
       "output_type": "pyout",
       "prompt_number": 141,
       "text": [
        "                                      Movie  \\\n",
        "0                                    Avatar   \n",
        "1  Pirates of the Caribbean: At World's End   \n",
        "2                     The Dark Knight Rises   \n",
        "3                           The Lone Ranger   \n",
        "4                               John Carter   \n",
        "\n",
        "                                       bmojo_15_link  ProductionBudget  \\\n",
        "0  http://www.boxofficemojo.com/movies/?id=avatar...         425000000   \n",
        "1  http://www.boxofficemojo.com/movies/?id=pirate...         300000000   \n",
        "2  http://www.boxofficemojo.com/movies/?id=batman...         275000000   \n",
        "3  http://www.boxofficemojo.com/movies/?id=lonera...         275000000   \n",
        "4  http://www.boxofficemojo.com/movies/?id=johnca...         275000000   \n",
        "\n",
        "   adj_Buget  adj_Gross Ratting             Genre ReleaseDate  o_theater  \\\n",
        "0  476850000  796004400   PG-13  Sci-Fi Adventure  2009-12-18       3452   \n",
        "1  348270000  373283400   PG-13  Period Adventure  2007-05-25       4362   \n",
        "2  288337500  478091800   PG-13   Action Thriller  2012-07-20       4404   \n",
        "3  284157500   94533700   PG-13           Western  2013-07-03       3904   \n",
        "4  288337500   76355300   PG-13  Sci-Fi Adventure  2012-03-09       3749   \n",
        "\n",
        "      month    ...      December  February  January  July  June  March  May  \\\n",
        "0  December    ...             1         0        0     0     0      0    0   \n",
        "1       May    ...             0         0        0     0     0      0    1   \n",
        "2      July    ...             0         0        0     1     0      0    0   \n",
        "3      July    ...             0         0        0     1     0      0    0   \n",
        "4     March    ...             0         0        0     0     0      1    0   \n",
        "\n",
        "   November  October  September  \n",
        "0         0        0          0  \n",
        "1         0        0          0  \n",
        "2         0        0          0  \n",
        "3         0        0          0  \n",
        "4         0        0          0  \n",
        "\n",
        "[5 rows x 22 columns]"
       ]
      }
     ],
     "prompt_number": 141
    },
    {
     "cell_type": "code",
     "collapsed": false,
     "input": [
      "with open(\"movie_nullset.pkl\",\"w\") as picklefile:\n",
      "    pickle.dump(df_for_model_1, picklefile)"
     ],
     "language": "python",
     "metadata": {},
     "outputs": [],
     "prompt_number": 291
    },
    {
     "cell_type": "code",
     "collapsed": false,
     "input": [
      "df_for_model_1['month']=df_for_model_1['ReleaseDate'].apply(lambda x: x.strftime(\"%B\") )"
     ],
     "language": "python",
     "metadata": {},
     "outputs": [
      {
       "output_type": "stream",
       "stream": "stderr",
       "text": [
        "-c:1: SettingWithCopyWarning: \n",
        "A value is trying to be set on a copy of a slice from a DataFrame.\n",
        "Try using .loc[row_indexer,col_indexer] = value instead\n",
        "\n",
        "See the the caveats in the documentation: http://pandas.pydata.org/pandas-docs/stable/indexing.html#indexing-view-versus-copy\n"
       ]
      }
     ],
     "prompt_number": 108
    },
    {
     "cell_type": "code",
     "collapsed": false,
     "input": [
      "months = pd.get_dummies(df_for_model_1['month'])"
     ],
     "language": "python",
     "metadata": {},
     "outputs": [],
     "prompt_number": 135
    },
    {
     "cell_type": "code",
     "collapsed": false,
     "input": [
      "genre_df = pd.get_dummies(df_for_model_1['Genre'])"
     ],
     "language": "python",
     "metadata": {},
     "outputs": [],
     "prompt_number": 277
    },
    {
     "cell_type": "code",
     "collapsed": false,
     "input": [
      "genre_df= pd.concat([df_for_model_1,genre_df], axis=1)"
     ],
     "language": "python",
     "metadata": {},
     "outputs": [],
     "prompt_number": 278
    },
    {
     "cell_type": "code",
     "collapsed": false,
     "input": [
      "len(genre_df.columns)"
     ],
     "language": "python",
     "metadata": {},
     "outputs": [
      {
       "metadata": {},
       "output_type": "pyout",
       "prompt_number": 292,
       "text": [
        "79"
       ]
      }
     ],
     "prompt_number": 292
    },
    {
     "cell_type": "code",
     "collapsed": false,
     "input": [
      "del(genre_df['ProductionBudget'])\n",
      "del(genre_df['month'])"
     ],
     "language": "python",
     "metadata": {},
     "outputs": [],
     "prompt_number": 282
    },
    {
     "cell_type": "code",
     "collapsed": false,
     "input": [
      "del(genre_df['Movie'])\n",
      "del(genre_df['bmojo_15_link'])\n",
      "del(genre_df['adj_Gross'])\n",
      "del(genre_df['Ratting'])\n",
      "del(genre_df['Genre'])\n",
      "del(genre_df['ReleaseDate'])\n"
     ],
     "language": "python",
     "metadata": {},
     "outputs": [],
     "prompt_number": 280
    },
    {
     "cell_type": "code",
     "collapsed": false,
     "input": [
      "months.head()"
     ],
     "language": "python",
     "metadata": {},
     "outputs": [
      {
       "html": [
        "<div style=\"max-height:1000px;max-width:1500px;overflow:auto;\">\n",
        "<table border=\"1\" class=\"dataframe\">\n",
        "  <thead>\n",
        "    <tr style=\"text-align: right;\">\n",
        "      <th></th>\n",
        "      <th>April</th>\n",
        "      <th>August</th>\n",
        "      <th>December</th>\n",
        "      <th>February</th>\n",
        "      <th>January</th>\n",
        "      <th>July</th>\n",
        "      <th>June</th>\n",
        "      <th>March</th>\n",
        "      <th>May</th>\n",
        "      <th>November</th>\n",
        "      <th>October</th>\n",
        "      <th>September</th>\n",
        "    </tr>\n",
        "  </thead>\n",
        "  <tbody>\n",
        "    <tr>\n",
        "      <th>0</th>\n",
        "      <td> 0</td>\n",
        "      <td> 0</td>\n",
        "      <td> 1</td>\n",
        "      <td> 0</td>\n",
        "      <td> 0</td>\n",
        "      <td> 0</td>\n",
        "      <td> 0</td>\n",
        "      <td> 0</td>\n",
        "      <td> 0</td>\n",
        "      <td> 0</td>\n",
        "      <td> 0</td>\n",
        "      <td> 0</td>\n",
        "    </tr>\n",
        "    <tr>\n",
        "      <th>1</th>\n",
        "      <td> 0</td>\n",
        "      <td> 0</td>\n",
        "      <td> 0</td>\n",
        "      <td> 0</td>\n",
        "      <td> 0</td>\n",
        "      <td> 0</td>\n",
        "      <td> 0</td>\n",
        "      <td> 0</td>\n",
        "      <td> 1</td>\n",
        "      <td> 0</td>\n",
        "      <td> 0</td>\n",
        "      <td> 0</td>\n",
        "    </tr>\n",
        "    <tr>\n",
        "      <th>2</th>\n",
        "      <td> 0</td>\n",
        "      <td> 0</td>\n",
        "      <td> 0</td>\n",
        "      <td> 0</td>\n",
        "      <td> 0</td>\n",
        "      <td> 1</td>\n",
        "      <td> 0</td>\n",
        "      <td> 0</td>\n",
        "      <td> 0</td>\n",
        "      <td> 0</td>\n",
        "      <td> 0</td>\n",
        "      <td> 0</td>\n",
        "    </tr>\n",
        "    <tr>\n",
        "      <th>3</th>\n",
        "      <td> 0</td>\n",
        "      <td> 0</td>\n",
        "      <td> 0</td>\n",
        "      <td> 0</td>\n",
        "      <td> 0</td>\n",
        "      <td> 1</td>\n",
        "      <td> 0</td>\n",
        "      <td> 0</td>\n",
        "      <td> 0</td>\n",
        "      <td> 0</td>\n",
        "      <td> 0</td>\n",
        "      <td> 0</td>\n",
        "    </tr>\n",
        "    <tr>\n",
        "      <th>4</th>\n",
        "      <td> 0</td>\n",
        "      <td> 0</td>\n",
        "      <td> 0</td>\n",
        "      <td> 0</td>\n",
        "      <td> 0</td>\n",
        "      <td> 0</td>\n",
        "      <td> 0</td>\n",
        "      <td> 1</td>\n",
        "      <td> 0</td>\n",
        "      <td> 0</td>\n",
        "      <td> 0</td>\n",
        "      <td> 0</td>\n",
        "    </tr>\n",
        "  </tbody>\n",
        "</table>\n",
        "</div>"
       ],
       "metadata": {},
       "output_type": "pyout",
       "prompt_number": 142,
       "text": [
        "   April  August  December  February  January  July  June  March  May  \\\n",
        "0      0       0         1         0        0     0     0      0    0   \n",
        "1      0       0         0         0        0     0     0      0    1   \n",
        "2      0       0         0         0        0     1     0      0    0   \n",
        "3      0       0         0         0        0     1     0      0    0   \n",
        "4      0       0         0         0        0     0     0      1    0   \n",
        "\n",
        "   November  October  September  \n",
        "0         0        0          0  \n",
        "1         0        0          0  \n",
        "2         0        0          0  \n",
        "3         0        0          0  \n",
        "4         0        0          0  "
       ]
      }
     ],
     "prompt_number": 142
    },
    {
     "cell_type": "code",
     "collapsed": false,
     "input": [
      "df_for_model_1 = pd.concat([df_for_model_1,months], axis=1)"
     ],
     "language": "python",
     "metadata": {},
     "outputs": [],
     "prompt_number": 138
    },
    {
     "cell_type": "code",
     "collapsed": false,
     "input": [
      "del(df_for_model_1['Release Date'])"
     ],
     "language": "python",
     "metadata": {},
     "outputs": [],
     "prompt_number": 140
    },
    {
     "cell_type": "code",
     "collapsed": false,
     "input": [
      "Xg= genre_df[['adj_Buget', 'o_theater', 'April', 'August', 'December', 'February', 'January', 'July', 'June', 'March', 'May', 'November', 'October', 'September', 'Action', 'Action / Adventure', 'Action / Crime', 'Action Comedy', 'Action Drama', 'Action Fantasy', 'Action Horror', 'Action Thriller', 'Adventure', 'Adventure Comedy', 'Animation', 'Comedy', 'Comedy / Drama', 'Comedy Thriller', 'Concert', 'Crime', 'Crime Comedy', 'Crime Drama', 'Crime Thriller', 'Documentary', 'Drama', 'Drama / Thriller', 'Family', 'Family Adventure', 'Family Comedy', 'Fantasy', 'Fantasy Comedy', 'Fantasy Drama', 'Foreign', 'Foreign / Action', 'Foreign / Horror', 'Historical Drama', 'Historical Epic', 'Horror', 'Horror Comedy', 'Horror Thriller', 'IMAX', 'Music Drama', 'Musical', 'Period Action', 'Period Adventure', 'Period Comedy', 'Period Drama', 'Period Horror', 'Romance', 'Romantic Adventure', 'Romantic Comedy', 'Romantic Thriller', 'Sci-Fi', 'Sci-Fi Action', 'Sci-Fi Adventure', 'Sci-Fi Comedy', 'Sci-Fi Fantasy', 'Sci-Fi Horror', 'Sci-Fi Thriller', 'Sports Action', 'Sports Comedy', 'Sports Drama', 'Thriller', 'Unknown', 'War', 'War Drama', 'War Romance', 'Western', 'Western Comedy']]\n",
      "genre_gross = LinearRegression()\n",
      "genre_gross.fit(Xg,Y)\n",
      "genre_gross.score(Xg,Y)\n",
      "#genre_gross.coef_\n",
      "#print genre_gross"
     ],
     "language": "python",
     "metadata": {},
     "outputs": [
      {
       "metadata": {},
       "output_type": "pyout",
       "prompt_number": 307,
       "text": [
        "0.41840400743362827"
       ]
      }
     ],
     "prompt_number": 307
    },
    {
     "cell_type": "code",
     "collapsed": false,
     "input": [
      "X = df_for_model_1[['adj_Buget','o_theater','January','February','March','April','May','June','July','August','September','October','November','December']]\n",
      "Y = df_for_model_1['adj_Gross']\n",
      "\n",
      "projected_gross = LinearRegression()\n",
      "projected_gross.fit(X,Y)\n",
      "\"\"\"makes a  linear model projecting inflation adjusted gross off of inflation adjusted budget\"\"\""
     ],
     "language": "python",
     "metadata": {},
     "outputs": [
      {
       "metadata": {},
       "output_type": "pyout",
       "prompt_number": 296,
       "text": [
        "'makes a  linear model projecting inflation adjusted gross off of inflation adjusted budget'"
       ]
      }
     ],
     "prompt_number": 296
    },
    {
     "cell_type": "code",
     "collapsed": false,
     "input": [
      "print 'coefficient:\\t %g' % projected_gross.coef_[0],projected_gross.coef_[1]\n",
      "print 'intercept: \\t %g' % projected_gross.intercept_\n",
      "print 'R^2:        \\t %g' % projected_gross.score(X,Y)"
     ],
     "language": "python",
     "metadata": {},
     "outputs": [
      {
       "output_type": "stream",
       "stream": "stdout",
       "text": [
        "coefficient:\t 0.759685 17642.8745562\n",
        "intercept: \t 2.34031e+06\n",
        "R^2:        \t 0.397744\n"
       ]
      }
     ],
     "prompt_number": 297
    },
    {
     "cell_type": "code",
     "collapsed": false,
     "input": [
      "X_s = df_for_model_1[['adj_Buget']]\n",
      "Y_s = df_for_model_1['adj_Gross']\n",
      "\n",
      "simple_projected_gross = LinearRegression()\n",
      "simple_projected_gross.fit(X_s,Y_s)\n",
      "\"\"\"makes a simple linear model projecting inflation adjusted gross off of inflation adjusted budget\"\"\""
     ],
     "language": "python",
     "metadata": {},
     "outputs": [
      {
       "metadata": {},
       "output_type": "pyout",
       "prompt_number": 263,
       "text": [
        "'makes a simple linear model projecting inflation adjusted gross off of inflation adjusted budget'"
       ]
      }
     ],
     "prompt_number": 263
    },
    {
     "cell_type": "code",
     "collapsed": false,
     "input": [
      "print 'coefficient:\\t %g' % simple_projected_gross.coef_[0]\n",
      "print 'intercept: \\t %g' % simple_projected_gross.intercept_\n",
      "print 'R^2:        \\t %g' % simple_projected_gross.score(X_s,Y_s)"
     ],
     "language": "python",
     "metadata": {},
     "outputs": [
      {
       "output_type": "stream",
       "stream": "stdout",
       "text": [
        "coefficient:\t 1.13099\n",
        "intercept: \t 1.72937e+07\n",
        "R^2:        \t 0.341097\n"
       ]
      }
     ],
     "prompt_number": 265
    },
    {
     "cell_type": "code",
     "collapsed": false,
     "input": [
      "X_sm= sm.add_constant(X_s)\n",
      "simple_linemodel =sm.OLS(Y_s, X_sm).fit()\n",
      "simple_linemodel.summary()"
     ],
     "language": "python",
     "metadata": {},
     "outputs": [
      {
       "html": [
        "<table class=\"simpletable\">\n",
        "<caption>OLS Regression Results</caption>\n",
        "<tr>\n",
        "  <th>Dep. Variable:</th>        <td>adj_Gross</td>    <th>  R-squared:         </th> <td>   0.341</td> \n",
        "</tr>\n",
        "<tr>\n",
        "  <th>Model:</th>                   <td>OLS</td>       <th>  Adj. R-squared:    </th> <td>   0.341</td> \n",
        "</tr>\n",
        "<tr>\n",
        "  <th>Method:</th>             <td>Least Squares</td>  <th>  F-statistic:       </th> <td>   1998.</td> \n",
        "</tr>\n",
        "<tr>\n",
        "  <th>Date:</th>             <td>Wed, 28 Jan 2015</td> <th>  Prob (F-statistic):</th>  <td>  0.00</td>  \n",
        "</tr>\n",
        "<tr>\n",
        "  <th>Time:</th>                 <td>20:58:19</td>     <th>  Log-Likelihood:    </th> <td> -75543.</td> \n",
        "</tr>\n",
        "<tr>\n",
        "  <th>No. Observations:</th>      <td>  3861</td>      <th>  AIC:               </th> <td>1.511e+05</td>\n",
        "</tr>\n",
        "<tr>\n",
        "  <th>Df Residuals:</th>          <td>  3859</td>      <th>  BIC:               </th> <td>1.511e+05</td>\n",
        "</tr>\n",
        "<tr>\n",
        "  <th>Df Model:</th>              <td>     1</td>      <th>                     </th>     <td> </td>    \n",
        "</tr>\n",
        "<tr>\n",
        "  <th>Covariance Type:</th>      <td>nonrobust</td>    <th>                     </th>     <td> </td>    \n",
        "</tr>\n",
        "</table>\n",
        "<table class=\"simpletable\">\n",
        "<tr>\n",
        "      <td></td>         <th>coef</th>     <th>std err</th>      <th>t</th>      <th>P>|t|</th> <th>[95.0% Conf. Int.]</th> \n",
        "</tr>\n",
        "<tr>\n",
        "  <th>const</th>     <td> 1.729e+07</td> <td> 1.67e+06</td> <td>   10.355</td> <td> 0.000</td> <td>  1.4e+07  2.06e+07</td>\n",
        "</tr>\n",
        "<tr>\n",
        "  <th>adj_Buget</th> <td>    1.1310</td> <td>    0.025</td> <td>   44.696</td> <td> 0.000</td> <td>    1.081     1.181</td>\n",
        "</tr>\n",
        "</table>\n",
        "<table class=\"simpletable\">\n",
        "<tr>\n",
        "  <th>Omnibus:</th>       <td>2797.374</td> <th>  Durbin-Watson:     </th> <td>   0.868</td> \n",
        "</tr>\n",
        "<tr>\n",
        "  <th>Prob(Omnibus):</th>  <td> 0.000</td>  <th>  Jarque-Bera (JB):  </th> <td>70819.360</td>\n",
        "</tr>\n",
        "<tr>\n",
        "  <th>Skew:</th>           <td> 3.168</td>  <th>  Prob(JB):          </th> <td>    0.00</td> \n",
        "</tr>\n",
        "<tr>\n",
        "  <th>Kurtosis:</th>       <td>23.002</td>  <th>  Cond. No.          </th> <td>9.00e+07</td> \n",
        "</tr>\n",
        "</table>"
       ],
       "metadata": {},
       "output_type": "pyout",
       "prompt_number": 309,
       "text": [
        "<class 'statsmodels.iolib.summary.Summary'>\n",
        "\"\"\"\n",
        "                            OLS Regression Results                            \n",
        "==============================================================================\n",
        "Dep. Variable:              adj_Gross   R-squared:                       0.341\n",
        "Model:                            OLS   Adj. R-squared:                  0.341\n",
        "Method:                 Least Squares   F-statistic:                     1998.\n",
        "Date:                Wed, 28 Jan 2015   Prob (F-statistic):               0.00\n",
        "Time:                        20:58:19   Log-Likelihood:                -75543.\n",
        "No. Observations:                3861   AIC:                         1.511e+05\n",
        "Df Residuals:                    3859   BIC:                         1.511e+05\n",
        "Df Model:                           1                                         \n",
        "Covariance Type:            nonrobust                                         \n",
        "==============================================================================\n",
        "                 coef    std err          t      P>|t|      [95.0% Conf. Int.]\n",
        "------------------------------------------------------------------------------\n",
        "const       1.729e+07   1.67e+06     10.355      0.000       1.4e+07  2.06e+07\n",
        "adj_Buget      1.1310      0.025     44.696      0.000         1.081     1.181\n",
        "==============================================================================\n",
        "Omnibus:                     2797.374   Durbin-Watson:                   0.868\n",
        "Prob(Omnibus):                  0.000   Jarque-Bera (JB):            70819.360\n",
        "Skew:                           3.168   Prob(JB):                         0.00\n",
        "Kurtosis:                      23.002   Cond. No.                     9.00e+07\n",
        "==============================================================================\n",
        "\n",
        "Warnings:\n",
        "[1] Standard Errors assume that the covariance matrix of the errors is correctly specified.\n",
        "[2] The condition number is large,  9e+07. This might indicate that there are\n",
        "strong multicollinearity or other numerical problems.\n",
        "\"\"\""
       ]
      }
     ],
     "prompt_number": 309
    },
    {
     "cell_type": "code",
     "collapsed": false,
     "input": [
      "plt.plot(X_s,Y_s, 'go')\n",
      "plt.plot(X_s, simple_projected_gross.predict(X_s),'k--')\n"
     ],
     "language": "python",
     "metadata": {},
     "outputs": [
      {
       "metadata": {},
       "output_type": "pyout",
       "prompt_number": 266,
       "text": [
        "[<matplotlib.lines.Line2D at 0x7fe3c083c250>]"
       ]
      },
      {
       "metadata": {},
       "output_type": "display_data",
       "png": "[encoded data removed]",
       "text": [
        "<matplotlib.figure.Figure at 0x7fe3c083c450>"
       ]
      }
     ],
     "prompt_number": 266
    },
    {
     "cell_type": "code",
     "collapsed": false,
     "input": [
      "tv_movie_df = pickle.load( open( \"my_first_pickle.pkl\", \"rb\" ) )"
     ],
     "language": "python",
     "metadata": {},
     "outputs": [],
     "prompt_number": 185
    },
    {
     "cell_type": "code",
     "collapsed": false,
     "input": [
      "def scrape_mojo15(url):\n",
      "    \"\"\"scrapes data from box office mojo from a url\"\"\"\n",
      "    soup = url_to_soup(url)\n",
      "    try:\n",
      "        try:\n",
      "            Gross = soup.find(text = re.compile('Domestic Total Adj')).findNextSibling().text\n",
      "        except:\n",
      "            Gross = soup.find(text = re.compile('Domestic Tot Adj')).next_element.next_element.text\n",
      "        Gross = int(Gross.replace('$','').replace(',',''))\n",
      "    except:\n",
      "        Gross= np.nan\n",
      "    try:\n",
      "        ReleaseDate = soup.find(text = re.compile('Release Date')).findNextSibling().text\n",
      "        ReleaseDate = dateutil.parser.parse(ReleaseDate)\n",
      "    except:\n",
      "        ReleaseDate = np.nan\n",
      "    try:\n",
      "        Genre=str(soup.find(text = re.compile('Genre:')).findNextSibling().text)\n",
      "    except:\n",
      "        Genre = np.nan\n",
      "    Ratting = str(soup.find(text = re.compile('MPAA Rating')).findNextSibling().text)\n",
      "    try:\n",
      "        theaters = soup.findAll('div', class_='mp_box_content')[1].findAll(text = re.compile('theaters'))\n",
      "        o_theater = theaters[0].encode('ascii', 'replace')\n",
      "    except:\n",
      "        o_theater= np.nan\n",
      "    try:\n",
      "        w_theater = theaters[1].encode('ascii', 'replace')\n",
      "    except:\n",
      "        w_theater = np.nan\n",
      "    return Gross, Ratting,Genre, ReleaseDate,o_theater,w_theater"
     ],
     "language": "python",
     "metadata": {},
     "outputs": [],
     "prompt_number": 177
    },
    {
     "cell_type": "code",
     "collapsed": false,
     "input": [
      "tv_movie_df.head()"
     ],
     "language": "python",
     "metadata": {},
     "outputs": [
      {
       "html": [
        "<div style=\"max-height:1000px;max-width:1500px;overflow:auto;\">\n",
        "<table border=\"1\" class=\"dataframe\">\n",
        "  <thead>\n",
        "    <tr style=\"text-align: right;\">\n",
        "      <th></th>\n",
        "      <th>title</th>\n",
        "      <th>bmojo_link</th>\n",
        "      <th>tv_show</th>\n",
        "      <th>wiki_link</th>\n",
        "      <th>No. of seasons</th>\n",
        "      <th>Series_start</th>\n",
        "      <th>Series_end</th>\n",
        "      <th>Series_len</th>\n",
        "      <th>Budget</th>\n",
        "      <th>based_on_tv</th>\n",
        "    </tr>\n",
        "  </thead>\n",
        "  <tbody>\n",
        "    <tr>\n",
        "      <th>0</th>\n",
        "      <td>                            Star Trek</td>\n",
        "      <td> http://www.boxofficemojo.com/movies/?id=startr...</td>\n",
        "      <td>           Star Trek</td>\n",
        "      <td> http://en.wikipedia.org/wiki/Star_Trek:_The_Or...</td>\n",
        "      <td> 3</td>\n",
        "      <td>1966-09-08</td>\n",
        "      <td>1969-06-03</td>\n",
        "      <td> 999 days</td>\n",
        "      <td> 150000000</td>\n",
        "      <td> 1</td>\n",
        "    </tr>\n",
        "    <tr>\n",
        "      <th>1</th>\n",
        "      <td>              Star Trek Into Darkness</td>\n",
        "      <td> http://www.boxofficemojo.com/movies/?id=startr...</td>\n",
        "      <td>           Star Trek</td>\n",
        "      <td> http://en.wikipedia.org/wiki/Star_Trek:_The_Or...</td>\n",
        "      <td> 3</td>\n",
        "      <td>1966-09-08</td>\n",
        "      <td>1969-06-03</td>\n",
        "      <td> 999 days</td>\n",
        "      <td> 190000000</td>\n",
        "      <td> 1</td>\n",
        "    </tr>\n",
        "    <tr>\n",
        "      <th>2</th>\n",
        "      <td>               Mission: Impossible II</td>\n",
        "      <td> http://www.boxofficemojo.com/movies/?id=mi2.ht...</td>\n",
        "      <td> Mission: Impossible</td>\n",
        "      <td>  http://en.wikipedia.org/wiki/Mission:_Impossible</td>\n",
        "      <td> 7</td>\n",
        "      <td>1966-09-17</td>\n",
        "      <td>1973-03-30</td>\n",
        "      <td>2386 days</td>\n",
        "      <td> 125000000</td>\n",
        "      <td> 1</td>\n",
        "    </tr>\n",
        "    <tr>\n",
        "      <th>3</th>\n",
        "      <td> Mission: Impossible - Ghost Protocol</td>\n",
        "      <td> http://www.boxofficemojo.com/movies/?id=mi4.ht...</td>\n",
        "      <td> Mission: Impossible</td>\n",
        "      <td>  http://en.wikipedia.org/wiki/Mission:_Impossible</td>\n",
        "      <td> 7</td>\n",
        "      <td>1966-09-17</td>\n",
        "      <td>1973-03-30</td>\n",
        "      <td>2386 days</td>\n",
        "      <td> 145000000</td>\n",
        "      <td> 1</td>\n",
        "    </tr>\n",
        "    <tr>\n",
        "      <th>4</th>\n",
        "      <td>                       22 Jump Street</td>\n",
        "      <td> http://www.boxofficemojo.com/movies/?id=21jump...</td>\n",
        "      <td>      21 Jump Street</td>\n",
        "      <td>       http://en.wikipedia.org/wiki/21_Jump_Street</td>\n",
        "      <td> 5</td>\n",
        "      <td>1987-04-12</td>\n",
        "      <td>1991-04-27</td>\n",
        "      <td>1476 days</td>\n",
        "      <td>  50000000</td>\n",
        "      <td> 1</td>\n",
        "    </tr>\n",
        "  </tbody>\n",
        "</table>\n",
        "</div>"
       ],
       "metadata": {},
       "output_type": "pyout",
       "prompt_number": 328,
       "text": [
        "                                  title  \\\n",
        "0                             Star Trek   \n",
        "1               Star Trek Into Darkness   \n",
        "2                Mission: Impossible II   \n",
        "3  Mission: Impossible - Ghost Protocol   \n",
        "4                        22 Jump Street   \n",
        "\n",
        "                                          bmojo_link              tv_show  \\\n",
        "0  http://www.boxofficemojo.com/movies/?id=startr...            Star Trek   \n",
        "1  http://www.boxofficemojo.com/movies/?id=startr...            Star Trek   \n",
        "2  http://www.boxofficemojo.com/movies/?id=mi2.ht...  Mission: Impossible   \n",
        "3  http://www.boxofficemojo.com/movies/?id=mi4.ht...  Mission: Impossible   \n",
        "4  http://www.boxofficemojo.com/movies/?id=21jump...       21 Jump Street   \n",
        "\n",
        "                                           wiki_link No. of seasons  \\\n",
        "0  http://en.wikipedia.org/wiki/Star_Trek:_The_Or...              3   \n",
        "1  http://en.wikipedia.org/wiki/Star_Trek:_The_Or...              3   \n",
        "2   http://en.wikipedia.org/wiki/Mission:_Impossible              7   \n",
        "3   http://en.wikipedia.org/wiki/Mission:_Impossible              7   \n",
        "4        http://en.wikipedia.org/wiki/21_Jump_Street              5   \n",
        "\n",
        "  Series_start Series_end  Series_len     Budget  based_on_tv  \n",
        "0   1966-09-08 1969-06-03    999 days  150000000            1  \n",
        "1   1966-09-08 1969-06-03    999 days  190000000            1  \n",
        "2   1966-09-17 1973-03-30   2386 days  125000000            1  \n",
        "3   1966-09-17 1973-03-30   2386 days  145000000            1  \n",
        "4   1987-04-12 1991-04-27   1476 days   50000000            1  "
       ]
      }
     ],
     "prompt_number": 328
    },
    {
     "cell_type": "code",
     "collapsed": false,
     "input": [
      "tv_movie_df['based_on_tv']=1.0"
     ],
     "language": "python",
     "metadata": {},
     "outputs": [],
     "prompt_number": 327
    },
    {
     "cell_type": "code",
     "collapsed": false,
     "input": [
      "tv_movie_df = tv_movie_df.dropna()"
     ],
     "language": "python",
     "metadata": {},
     "outputs": [],
     "prompt_number": 199
    },
    {
     "cell_type": "code",
     "collapsed": false,
     "input": [
      "tv_movie_df.bmojo_link[0]+'&adjust_yr=2015&p=.htm'"
     ],
     "language": "python",
     "metadata": {},
     "outputs": [
      {
       "metadata": {},
       "output_type": "pyout",
       "prompt_number": 153,
       "text": [
        "'http://www.boxofficemojo.com/movies/?id=startrek11.htm&adjust_yr=2015&p=.htm'"
       ]
      }
     ],
     "prompt_number": 153
    },
    {
     "cell_type": "code",
     "collapsed": false,
     "input": [
      "tv_movie_df['bmojo_link']=tv_movie_df['bmojo_link'].apply(lambda x: str(x) +'&adjust_yr=2015&p=.htm' )"
     ],
     "language": "python",
     "metadata": {},
     "outputs": [],
     "prompt_number": 201
    },
    {
     "cell_type": "code",
     "collapsed": false,
     "input": [
      "del(tv_movie_df['Gross'])"
     ],
     "language": "python",
     "metadata": {},
     "outputs": [],
     "prompt_number": 202
    },
    {
     "cell_type": "code",
     "collapsed": false,
     "input": [
      "del(tv_movie_df['Ratting'])\n",
      "del(tv_movie_df['Genre'])\n",
      "del(tv_movie_df['ReleaseDate'])\n"
     ],
     "language": "python",
     "metadata": {},
     "outputs": [],
     "prompt_number": 203
    },
    {
     "cell_type": "code",
     "collapsed": false,
     "input": [
      "scrape_mojo15(tv_movie_df.bmojo_link[0])"
     ],
     "language": "python",
     "metadata": {},
     "outputs": [
      {
       "metadata": {},
       "output_type": "pyout",
       "prompt_number": 205,
       "text": [
        "(286748500,\n",
        " 'PG-13',\n",
        " 'Sci-Fi Adventure',\n",
        " datetime.datetime(2009, 5, 8, 0, 0),\n",
        " '(#1 rank, 3,849 theaters, $21,700 average)',\n",
        " '?4,053 theaters')"
       ]
      }
     ],
     "prompt_number": 205
    },
    {
     "cell_type": "code",
     "collapsed": false,
     "input": [
      "tv_mojo_15=[]\n",
      "for i,url in tv_movie_df[['bmojo_link']].iterrows():\n",
      "    print i, url[0]\n",
      "    try:\n",
      "        Gross, Ratting,Genre, ReleaseDate,o_theater,w_theater = scrape_mojo15(url[0])\n",
      "        tv_mojo_15.append([url[0],Gross, Ratting,Genre, ReleaseDate,o_theater,w_theater])\n",
      "    except:\n",
      "        tv_mojo_15.append([url[0],np.nan,np.nan,np.nan,np.nan,np.nan,np.nan])"
     ],
     "language": "python",
     "metadata": {},
     "outputs": [
      {
       "output_type": "stream",
       "stream": "stdout",
       "text": [
        "0 http://www.boxofficemojo.com/movies/?id=startrek11.htm&adjust_yr=2015&p=.htm\n",
        "1"
       ]
      },
      {
       "output_type": "stream",
       "stream": "stdout",
       "text": [
        " http://www.boxofficemojo.com/movies/?id=startrek12.htm&adjust_yr=2015&p=.htm\n",
        "2"
       ]
      },
      {
       "output_type": "stream",
       "stream": "stdout",
       "text": [
        " http://www.boxofficemojo.com/movies/?id=mi2.htm&adjust_yr=2015&p=.htm\n",
        "3"
       ]
      },
      {
       "output_type": "stream",
       "stream": "stdout",
       "text": [
        " http://www.boxofficemojo.com/movies/?id=mi4.htm&adjust_yr=2015&p=.htm\n",
        "4"
       ]
      },
      {
       "output_type": "stream",
       "stream": "stdout",
       "text": [
        " http://www.boxofficemojo.com/movies/?id=21jumpstreet2.htm&adjust_yr=2015&p=.htm\n",
        "5"
       ]
      },
      {
       "output_type": "stream",
       "stream": "stdout",
       "text": [
        " http://www.boxofficemojo.com/movies/?id=fugitive.htm&adjust_yr=2015&p=.htm\n",
        "6"
       ]
      },
      {
       "output_type": "stream",
       "stream": "stdout",
       "text": [
        " http://www.boxofficemojo.com/movies/?id=missionimpossible.htm&adjust_yr=2015&p=.htm\n",
        "7"
       ]
      },
      {
       "output_type": "stream",
       "stream": "stdout",
       "text": [
        " http://www.boxofficemojo.com/movies/?id=sexandthecity.htm&adjust_yr=2015&p=.htm\n",
        "8"
       ]
      },
      {
       "output_type": "stream",
       "stream": "stdout",
       "text": [
        " http://www.boxofficemojo.com/movies/?id=21jumpstreet.htm&adjust_yr=2015&p=.htm\n",
        "9"
       ]
      },
      {
       "output_type": "stream",
       "stream": "stdout",
       "text": [
        " http://www.boxofficemojo.com/movies/?id=mi3.htm&adjust_yr=2015&p=.htm\n",
        "10"
       ]
      },
      {
       "output_type": "stream",
       "stream": "stdout",
       "text": [
        " http://www.boxofficemojo.com/movies/?id=getsmart.htm&adjust_yr=2015&p=.htm\n",
        "11"
       ]
      },
      {
       "output_type": "stream",
       "stream": "stdout",
       "text": [
        " http://www.boxofficemojo.com/movies/?id=borat.htm&adjust_yr=2015&p=.htm\n",
        "12"
       ]
      },
      {
       "output_type": "stream",
       "stream": "stdout",
       "text": [
        " http://www.boxofficemojo.com/movies/?id=charliesangels.htm&adjust_yr=2015&p=.htm\n",
        "13"
       ]
      },
      {
       "output_type": "stream",
       "stream": "stdout",
       "text": [
        " http://www.boxofficemojo.com/movies/?id=swat.htm&adjust_yr=2015&p=.htm\n",
        "14"
       ]
      },
      {
       "output_type": "stream",
       "stream": "stdout",
       "text": [
        " http://www.boxofficemojo.com/movies/?id=wildwildwest.htm&adjust_yr=2015&p=.htm\n",
        "15"
       ]
      },
      {
       "output_type": "stream",
       "stream": "stdout",
       "text": [
        " http://www.boxofficemojo.com/movies/?id=addamsfamily.htm&adjust_yr=2015&p=.htm\n",
        "16"
       ]
      },
      {
       "output_type": "stream",
       "stream": "stdout",
       "text": [
        " http://www.boxofficemojo.com/movies/?id=startrek4.htm&adjust_yr=2015&p=.htm\n",
        "17"
       ]
      },
      {
       "output_type": "stream",
       "stream": "stdout",
       "text": [
        " http://www.boxofficemojo.com/movies/?id=maverick.htm&adjust_yr=2015&p=.htm\n",
        "18"
       ]
      },
      {
       "output_type": "stream",
       "stream": "stdout",
       "text": [
        " http://www.boxofficemojo.com/movies/?id=equalizer.htm&adjust_yr=2015&p=.htm\n",
        "19"
       ]
      },
      {
       "output_type": "stream",
       "stream": "stdout",
       "text": [
        " http://www.boxofficemojo.com/movies/?id=charliesangels2.htm&adjust_yr=2015&p=.htm\n",
        "20"
       ]
      },
      {
       "output_type": "stream",
       "stream": "stdout",
       "text": [
        " http://www.boxofficemojo.com/movies/?id=sexandthecity2.htm&adjust_yr=2015&p=.htm\n",
        "21"
       ]
      },
      {
       "output_type": "stream",
       "stream": "stdout",
       "text": [
        " http://www.boxofficemojo.com/movies/?id=startrek8.htm&adjust_yr=2015&p=.htm\n",
        "22"
       ]
      },
      {
       "output_type": "stream",
       "stream": "stdout",
       "text": [
        " http://www.boxofficemojo.com/movies/?id=starskyandhutch.htm&adjust_yr=2015&p=.htm\n",
        "24"
       ]
      },
      {
       "output_type": "stream",
       "stream": "stdout",
       "text": [
        " http://www.boxofficemojo.com/movies/?id=x-filesfightthefuture.htm&adjust_yr=2015&p=.htm\n",
        "25"
       ]
      },
      {
       "output_type": "stream",
       "stream": "stdout",
       "text": [
        " http://www.boxofficemojo.com/movies/?id=startrek.htm&adjust_yr=2015&p=.htm\n",
        "26"
       ]
      },
      {
       "output_type": "stream",
       "stream": "stdout",
       "text": [
        " http://www.boxofficemojo.com/movies/?id=dukesofhazzard.htm&adjust_yr=2015&p=.htm\n",
        "27"
       ]
      },
      {
       "output_type": "stream",
       "stream": "stdout",
       "text": [
        " http://www.boxofficemojo.com/movies/?id=darkshadows.htm&adjust_yr=2015&p=.htm\n",
        "28"
       ]
      },
      {
       "output_type": "stream",
       "stream": "stdout",
       "text": [
        " http://www.boxofficemojo.com/movies/?id=startrek2.htm&adjust_yr=2015&p=.htm\n",
        "30"
       ]
      },
      {
       "output_type": "stream",
       "stream": "stdout",
       "text": [
        " http://www.boxofficemojo.com/movies/?id=ateam.htm&adjust_yr=2015&p=.htm\n",
        "31"
       ]
      },
      {
       "output_type": "stream",
       "stream": "stdout",
       "text": [
        " http://www.boxofficemojo.com/movies/?id=startrek3.htm&adjust_yr=2015&p=.htm\n",
        "32"
       ]
      },
      {
       "output_type": "stream",
       "stream": "stdout",
       "text": [
        " http://www.boxofficemojo.com/movies/?id=untouchables.htm&adjust_yr=2015&p=.htm\n",
        "33"
       ]
      },
      {
       "output_type": "stream",
       "stream": "stdout",
       "text": [
        " http://www.boxofficemojo.com/movies/?id=startrek7.htm&adjust_yr=2015&p=.htm\n",
        "34"
       ]
      },
      {
       "output_type": "stream",
       "stream": "stdout",
       "text": [
        " http://www.boxofficemojo.com/movies/?id=startrek6.htm&adjust_yr=2015&p=.htm\n",
        "35"
       ]
      },
      {
       "output_type": "stream",
       "stream": "stdout",
       "text": [
        " http://www.boxofficemojo.com/movies/?id=startrek9.htm&adjust_yr=2015&p=.htm\n",
        "36"
       ]
      },
      {
       "output_type": "stream",
       "stream": "stdout",
       "text": [
        " http://www.boxofficemojo.com/movies/?id=lostinspace.htm&adjust_yr=2015&p=.htm\n",
        "37"
       ]
      },
      {
       "output_type": "stream",
       "stream": "stdout",
       "text": [
        " http://www.boxofficemojo.com/movies/?id=jackass.htm&adjust_yr=2015&p=.htm\n",
        "38"
       ]
      },
      {
       "output_type": "stream",
       "stream": "stdout",
       "text": [
        " http://www.boxofficemojo.com/movies/?id=miamivice.htm&adjust_yr=2015&p=.htm\n",
        "39"
       ]
      },
      {
       "output_type": "stream",
       "stream": "stdout",
       "text": [
        " http://www.boxofficemojo.com/movies/?id=bewitched.htm&adjust_yr=2015&p=.htm\n",
        "43"
       ]
      },
      {
       "output_type": "stream",
       "stream": "stdout",
       "text": [
        " http://www.boxofficemojo.com/movies/?id=startrek5.htm&adjust_yr=2015&p=.htm\n",
        "47"
       ]
      },
      {
       "output_type": "stream",
       "stream": "stdout",
       "text": [
        " http://www.boxofficemojo.com/movies/?id=addamsfamilyvalues.htm&adjust_yr=2015&p=.htm\n",
        "51"
       ]
      },
      {
       "output_type": "stream",
       "stream": "stdout",
       "text": [
        " http://www.boxofficemojo.com/movies/?id=beverlyhillbillies.htm&adjust_yr=2015&p=.htm\n",
        "52"
       ]
      },
      {
       "output_type": "stream",
       "stream": "stdout",
       "text": [
        " http://www.boxofficemojo.com/movies/?id=startrek10.htm&adjust_yr=2015&p=.htm\n",
        "53"
       ]
      },
      {
       "output_type": "stream",
       "stream": "stdout",
       "text": [
        " http://www.boxofficemojo.com/movies/?id=myfavoritemartian.htm&adjust_yr=2015&p=.htm\n",
        "54"
       ]
      },
      {
       "output_type": "stream",
       "stream": "stdout",
       "text": [
        " http://www.boxofficemojo.com/movies/?id=ispy.htm&adjust_yr=2015&p=.htm\n",
        "55"
       ]
      },
      {
       "output_type": "stream",
       "stream": "stdout",
       "text": [
        " http://www.boxofficemojo.com/movies/?id=sgtbilko.htm&adjust_yr=2015&p=.htm\n",
        "56"
       ]
      },
      {
       "output_type": "stream",
       "stream": "stdout",
       "text": [
        " http://www.boxofficemojo.com/movies/?id=twilightzone.htm&adjust_yr=2015&p=.htm\n",
        "61"
       ]
      },
      {
       "output_type": "stream",
       "stream": "stdout",
       "text": [
        " http://www.boxofficemojo.com/movies/?id=xfiles2.htm&adjust_yr=2015&p=.htm\n",
        "62"
       ]
      },
      {
       "output_type": "stream",
       "stream": "stdout",
       "text": [
        " http://www.boxofficemojo.com/movies/?id=reno911.htm&adjust_yr=2015&p=.htm\n",
        "66"
       ]
      },
      {
       "output_type": "stream",
       "stream": "stdout",
       "text": [
        " http://www.boxofficemojo.com/movies/?id=modsquad.htm&adjust_yr=2015&p=.htm\n",
        "67"
       ]
      },
      {
       "output_type": "stream",
       "stream": "stdout",
       "text": [
        " http://www.boxofficemojo.com/movies/?id=honeymooners.htm&adjust_yr=2015&p=.htm\n"
       ]
      }
     ],
     "prompt_number": 206
    },
    {
     "cell_type": "code",
     "collapsed": false,
     "input": [
      "tv_moj_15_df = pd.DataFrame(tv_mojo_15)"
     ],
     "language": "python",
     "metadata": {},
     "outputs": [],
     "prompt_number": 208
    },
    {
     "cell_type": "code",
     "collapsed": false,
     "input": [
      "tv_moj_15_df.columns = ['bmojo_link','adj_Gross','Ratting','Genre','ReleaseDate','o_theater','w_theater']"
     ],
     "language": "python",
     "metadata": {},
     "outputs": [],
     "prompt_number": 209
    },
    {
     "cell_type": "code",
     "collapsed": false,
     "input": [
      "tv_moj_15_df.head()"
     ],
     "language": "python",
     "metadata": {},
     "outputs": [
      {
       "html": [
        "<div style=\"max-height:1000px;max-width:1500px;overflow:auto;\">\n",
        "<table border=\"1\" class=\"dataframe\">\n",
        "  <thead>\n",
        "    <tr style=\"text-align: right;\">\n",
        "      <th></th>\n",
        "      <th>bmojo_link</th>\n",
        "      <th>adj_Gross</th>\n",
        "      <th>Ratting</th>\n",
        "      <th>Genre</th>\n",
        "      <th>ReleaseDate</th>\n",
        "      <th>o_theater</th>\n",
        "    </tr>\n",
        "  </thead>\n",
        "  <tbody>\n",
        "    <tr>\n",
        "      <th>0</th>\n",
        "      <td> http://www.boxofficemojo.com/movies/?id=startr...</td>\n",
        "      <td> 286748500</td>\n",
        "      <td> PG-13</td>\n",
        "      <td> Sci-Fi Adventure</td>\n",
        "      <td>2009-05-08</td>\n",
        "      <td> 3849</td>\n",
        "    </tr>\n",
        "    <tr>\n",
        "      <th>1</th>\n",
        "      <td> http://www.boxofficemojo.com/movies/?id=startr...</td>\n",
        "      <td> 226594600</td>\n",
        "      <td> PG-13</td>\n",
        "      <td> Sci-Fi Adventure</td>\n",
        "      <td>2013-05-16</td>\n",
        "      <td> 3868</td>\n",
        "    </tr>\n",
        "    <tr>\n",
        "      <th>2</th>\n",
        "      <td> http://www.boxofficemojo.com/movies/?id=mi2.ht...</td>\n",
        "      <td> 331707300</td>\n",
        "      <td> PG-13</td>\n",
        "      <td>           Action</td>\n",
        "      <td>2000-05-24</td>\n",
        "      <td> 3653</td>\n",
        "    </tr>\n",
        "    <tr>\n",
        "      <th>3</th>\n",
        "      <td> http://www.boxofficemojo.com/movies/?id=mi4.ht...</td>\n",
        "      <td> 220678400</td>\n",
        "      <td> PG-13</td>\n",
        "      <td>           Action</td>\n",
        "      <td>2011-12-16</td>\n",
        "      <td> 3555</td>\n",
        "    </tr>\n",
        "    <tr>\n",
        "      <th>4</th>\n",
        "      <td> http://www.boxofficemojo.com/movies/?id=21jump...</td>\n",
        "      <td> 193103100</td>\n",
        "      <td>     R</td>\n",
        "      <td>    Action Comedy</td>\n",
        "      <td>2014-06-13</td>\n",
        "      <td> 3306</td>\n",
        "    </tr>\n",
        "  </tbody>\n",
        "</table>\n",
        "</div>"
       ],
       "metadata": {},
       "output_type": "pyout",
       "prompt_number": 229,
       "text": [
        "                                          bmojo_link  adj_Gross Ratting  \\\n",
        "0  http://www.boxofficemojo.com/movies/?id=startr...  286748500   PG-13   \n",
        "1  http://www.boxofficemojo.com/movies/?id=startr...  226594600   PG-13   \n",
        "2  http://www.boxofficemojo.com/movies/?id=mi2.ht...  331707300   PG-13   \n",
        "3  http://www.boxofficemojo.com/movies/?id=mi4.ht...  220678400   PG-13   \n",
        "4  http://www.boxofficemojo.com/movies/?id=21jump...  193103100       R   \n",
        "\n",
        "              Genre ReleaseDate  o_theater  \n",
        "0  Sci-Fi Adventure  2009-05-08       3849  \n",
        "1  Sci-Fi Adventure  2013-05-16       3868  \n",
        "2            Action  2000-05-24       3653  \n",
        "3            Action  2011-12-16       3555  \n",
        "4     Action Comedy  2014-06-13       3306  "
       ]
      }
     ],
     "prompt_number": 229
    },
    {
     "cell_type": "code",
     "collapsed": false,
     "input": [
      "tv_moj_15_df['o_theater'] = tv_moj_15_df['o_theater'].apply(lambda x: theater_open(x))"
     ],
     "language": "python",
     "metadata": {},
     "outputs": [],
     "prompt_number": 214
    },
    {
     "cell_type": "code",
     "collapsed": false,
     "input": [
      "tv_moj_15_df['w_theater'] = tv_moj_15_df['w_theater'].apply(lambda x: theater_wide(x))"
     ],
     "language": "python",
     "metadata": {},
     "outputs": [],
     "prompt_number": 224
    },
    {
     "cell_type": "code",
     "collapsed": false,
     "input": [
      "del(tv_moj_15_df['w_theater'])"
     ],
     "language": "python",
     "metadata": {},
     "outputs": [],
     "prompt_number": 228
    },
    {
     "cell_type": "code",
     "collapsed": false,
     "input": [
      "tv_final_df = pd.merge(tv_movie_df,tv_moj_15_df)\n"
     ],
     "language": "python",
     "metadata": {},
     "outputs": [],
     "prompt_number": 231
    },
    {
     "cell_type": "code",
     "collapsed": false,
     "input": [
      "tv_final_df.head()"
     ],
     "language": "python",
     "metadata": {},
     "outputs": [
      {
       "html": [
        "<div style=\"max-height:1000px;max-width:1500px;overflow:auto;\">\n",
        "<table border=\"1\" class=\"dataframe\">\n",
        "  <thead>\n",
        "    <tr style=\"text-align: right;\">\n",
        "      <th></th>\n",
        "      <th>title</th>\n",
        "      <th>bmojo_link</th>\n",
        "      <th>tv_show</th>\n",
        "      <th>wiki_link</th>\n",
        "      <th>No. of seasons</th>\n",
        "      <th>Series_start</th>\n",
        "      <th>Series_end</th>\n",
        "      <th>Series_len</th>\n",
        "      <th>Budget</th>\n",
        "      <th>adj_Gross</th>\n",
        "      <th>...</th>\n",
        "      <th>December</th>\n",
        "      <th>February</th>\n",
        "      <th>July</th>\n",
        "      <th>June</th>\n",
        "      <th>March</th>\n",
        "      <th>May</th>\n",
        "      <th>November</th>\n",
        "      <th>October</th>\n",
        "      <th>September</th>\n",
        "      <th>January</th>\n",
        "    </tr>\n",
        "  </thead>\n",
        "  <tbody>\n",
        "    <tr>\n",
        "      <th>0</th>\n",
        "      <td>                            Star Trek</td>\n",
        "      <td> http://www.boxofficemojo.com/movies/?id=startr...</td>\n",
        "      <td>           Star Trek</td>\n",
        "      <td> http://en.wikipedia.org/wiki/Star_Trek:_The_Or...</td>\n",
        "      <td> 3</td>\n",
        "      <td>1966-09-08</td>\n",
        "      <td>1969-06-03</td>\n",
        "      <td> 999 days</td>\n",
        "      <td> 150000000</td>\n",
        "      <td> 286748500</td>\n",
        "      <td>...</td>\n",
        "      <td> 0</td>\n",
        "      <td> 0</td>\n",
        "      <td> 0</td>\n",
        "      <td> 0</td>\n",
        "      <td> 0</td>\n",
        "      <td> 1</td>\n",
        "      <td> 0</td>\n",
        "      <td> 0</td>\n",
        "      <td> 0</td>\n",
        "      <td> 0</td>\n",
        "    </tr>\n",
        "    <tr>\n",
        "      <th>1</th>\n",
        "      <td>              Star Trek Into Darkness</td>\n",
        "      <td> http://www.boxofficemojo.com/movies/?id=startr...</td>\n",
        "      <td>           Star Trek</td>\n",
        "      <td> http://en.wikipedia.org/wiki/Star_Trek:_The_Or...</td>\n",
        "      <td> 3</td>\n",
        "      <td>1966-09-08</td>\n",
        "      <td>1969-06-03</td>\n",
        "      <td> 999 days</td>\n",
        "      <td> 190000000</td>\n",
        "      <td> 226594600</td>\n",
        "      <td>...</td>\n",
        "      <td> 0</td>\n",
        "      <td> 0</td>\n",
        "      <td> 0</td>\n",
        "      <td> 0</td>\n",
        "      <td> 0</td>\n",
        "      <td> 1</td>\n",
        "      <td> 0</td>\n",
        "      <td> 0</td>\n",
        "      <td> 0</td>\n",
        "      <td> 0</td>\n",
        "    </tr>\n",
        "    <tr>\n",
        "      <th>2</th>\n",
        "      <td>               Mission: Impossible II</td>\n",
        "      <td> http://www.boxofficemojo.com/movies/?id=mi2.ht...</td>\n",
        "      <td> Mission: Impossible</td>\n",
        "      <td>  http://en.wikipedia.org/wiki/Mission:_Impossible</td>\n",
        "      <td> 7</td>\n",
        "      <td>1966-09-17</td>\n",
        "      <td>1973-03-30</td>\n",
        "      <td>2386 days</td>\n",
        "      <td> 125000000</td>\n",
        "      <td> 331707300</td>\n",
        "      <td>...</td>\n",
        "      <td> 0</td>\n",
        "      <td> 0</td>\n",
        "      <td> 0</td>\n",
        "      <td> 0</td>\n",
        "      <td> 0</td>\n",
        "      <td> 1</td>\n",
        "      <td> 0</td>\n",
        "      <td> 0</td>\n",
        "      <td> 0</td>\n",
        "      <td> 0</td>\n",
        "    </tr>\n",
        "    <tr>\n",
        "      <th>3</th>\n",
        "      <td> Mission: Impossible - Ghost Protocol</td>\n",
        "      <td> http://www.boxofficemojo.com/movies/?id=mi4.ht...</td>\n",
        "      <td> Mission: Impossible</td>\n",
        "      <td>  http://en.wikipedia.org/wiki/Mission:_Impossible</td>\n",
        "      <td> 7</td>\n",
        "      <td>1966-09-17</td>\n",
        "      <td>1973-03-30</td>\n",
        "      <td>2386 days</td>\n",
        "      <td> 145000000</td>\n",
        "      <td> 220678400</td>\n",
        "      <td>...</td>\n",
        "      <td> 1</td>\n",
        "      <td> 0</td>\n",
        "      <td> 0</td>\n",
        "      <td> 0</td>\n",
        "      <td> 0</td>\n",
        "      <td> 0</td>\n",
        "      <td> 0</td>\n",
        "      <td> 0</td>\n",
        "      <td> 0</td>\n",
        "      <td> 0</td>\n",
        "    </tr>\n",
        "    <tr>\n",
        "      <th>4</th>\n",
        "      <td>                       22 Jump Street</td>\n",
        "      <td> http://www.boxofficemojo.com/movies/?id=21jump...</td>\n",
        "      <td>      21 Jump Street</td>\n",
        "      <td>       http://en.wikipedia.org/wiki/21_Jump_Street</td>\n",
        "      <td> 5</td>\n",
        "      <td>1987-04-12</td>\n",
        "      <td>1991-04-27</td>\n",
        "      <td>1476 days</td>\n",
        "      <td>  50000000</td>\n",
        "      <td> 193103100</td>\n",
        "      <td>...</td>\n",
        "      <td> 0</td>\n",
        "      <td> 0</td>\n",
        "      <td> 0</td>\n",
        "      <td> 1</td>\n",
        "      <td> 0</td>\n",
        "      <td> 0</td>\n",
        "      <td> 0</td>\n",
        "      <td> 0</td>\n",
        "      <td> 0</td>\n",
        "      <td> 0</td>\n",
        "    </tr>\n",
        "  </tbody>\n",
        "</table>\n",
        "<p>5 rows \u00d7 28 columns</p>\n",
        "</div>"
       ],
       "metadata": {},
       "output_type": "pyout",
       "prompt_number": 256,
       "text": [
        "                                  title  \\\n",
        "0                             Star Trek   \n",
        "1               Star Trek Into Darkness   \n",
        "2                Mission: Impossible II   \n",
        "3  Mission: Impossible - Ghost Protocol   \n",
        "4                        22 Jump Street   \n",
        "\n",
        "                                          bmojo_link              tv_show  \\\n",
        "0  http://www.boxofficemojo.com/movies/?id=startr...            Star Trek   \n",
        "1  http://www.boxofficemojo.com/movies/?id=startr...            Star Trek   \n",
        "2  http://www.boxofficemojo.com/movies/?id=mi2.ht...  Mission: Impossible   \n",
        "3  http://www.boxofficemojo.com/movies/?id=mi4.ht...  Mission: Impossible   \n",
        "4  http://www.boxofficemojo.com/movies/?id=21jump...       21 Jump Street   \n",
        "\n",
        "                                           wiki_link No. of seasons  \\\n",
        "0  http://en.wikipedia.org/wiki/Star_Trek:_The_Or...              3   \n",
        "1  http://en.wikipedia.org/wiki/Star_Trek:_The_Or...              3   \n",
        "2   http://en.wikipedia.org/wiki/Mission:_Impossible              7   \n",
        "3   http://en.wikipedia.org/wiki/Mission:_Impossible              7   \n",
        "4        http://en.wikipedia.org/wiki/21_Jump_Street              5   \n",
        "\n",
        "  Series_start Series_end  Series_len     Budget  adj_Gross   ...    December  \\\n",
        "0   1966-09-08 1969-06-03    999 days  150000000  286748500   ...           0   \n",
        "1   1966-09-08 1969-06-03    999 days  190000000  226594600   ...           0   \n",
        "2   1966-09-17 1973-03-30   2386 days  125000000  331707300   ...           0   \n",
        "3   1966-09-17 1973-03-30   2386 days  145000000  220678400   ...           1   \n",
        "4   1987-04-12 1991-04-27   1476 days   50000000  193103100   ...           0   \n",
        "\n",
        "  February July  June  March May  November  October  September  January  \n",
        "0        0    0     0      0   1         0        0          0        0  \n",
        "1        0    0     0      0   1         0        0          0        0  \n",
        "2        0    0     0      0   1         0        0          0        0  \n",
        "3        0    0     0      0   0         0        0          0        0  \n",
        "4        0    0     1      0   0         0        0          0        0  \n",
        "\n",
        "[5 rows x 28 columns]"
       ]
      }
     ],
     "prompt_number": 256
    },
    {
     "cell_type": "code",
     "collapsed": false,
     "input": [
      "tv_budget_adj =[]\n",
      "for i,date_budg in tv_final_df[['ReleaseDate','Budget']].iterrows():\n",
      "    year = date_budg[0].year\n",
      "    budg =  date_budg[1]\n",
      "    adj_budget = inflation_dict[year]*budg\n",
      "    tv_budget_adj.append(adj_budget)"
     ],
     "language": "python",
     "metadata": {},
     "outputs": [],
     "prompt_number": 234
    },
    {
     "cell_type": "code",
     "collapsed": false,
     "input": [
      "tv_budget_adj_df = pd.DataFrame(tv_budget_adj)"
     ],
     "language": "python",
     "metadata": {},
     "outputs": [],
     "prompt_number": 238
    },
    {
     "cell_type": "code",
     "collapsed": false,
     "input": [
      "tv_budget_adj_df.columns = ['adj_Buget']"
     ],
     "language": "python",
     "metadata": {},
     "outputs": [],
     "prompt_number": 239
    },
    {
     "cell_type": "code",
     "collapsed": false,
     "input": [
      "tv_final_df = pd.concat([tv_final_df,tv_budget_adj_df], axis=1)"
     ],
     "language": "python",
     "metadata": {},
     "outputs": [],
     "prompt_number": 241
    },
    {
     "cell_type": "code",
     "collapsed": false,
     "input": [
      "tv_final_df['month'] = tv_final_df['ReleaseDate'].apply(lambda x: x.strftime(\"%B\"))"
     ],
     "language": "python",
     "metadata": {},
     "outputs": [],
     "prompt_number": 246
    },
    {
     "cell_type": "code",
     "collapsed": false,
     "input": [
      "tv_months = pd.get_dummies(tv_final_df['month'])"
     ],
     "language": "python",
     "metadata": {},
     "outputs": [],
     "prompt_number": 248
    },
    {
     "cell_type": "code",
     "collapsed": false,
     "input": [
      "tv_months.head()"
     ],
     "language": "python",
     "metadata": {},
     "outputs": [
      {
       "html": [
        "<div style=\"max-height:1000px;max-width:1500px;overflow:auto;\">\n",
        "<table border=\"1\" class=\"dataframe\">\n",
        "  <thead>\n",
        "    <tr style=\"text-align: right;\">\n",
        "      <th></th>\n",
        "      <th>April</th>\n",
        "      <th>August</th>\n",
        "      <th>December</th>\n",
        "      <th>February</th>\n",
        "      <th>July</th>\n",
        "      <th>June</th>\n",
        "      <th>March</th>\n",
        "      <th>May</th>\n",
        "      <th>November</th>\n",
        "      <th>October</th>\n",
        "      <th>September</th>\n",
        "    </tr>\n",
        "  </thead>\n",
        "  <tbody>\n",
        "    <tr>\n",
        "      <th>0</th>\n",
        "      <td> 0</td>\n",
        "      <td> 0</td>\n",
        "      <td> 0</td>\n",
        "      <td> 0</td>\n",
        "      <td> 0</td>\n",
        "      <td> 0</td>\n",
        "      <td> 0</td>\n",
        "      <td> 1</td>\n",
        "      <td> 0</td>\n",
        "      <td> 0</td>\n",
        "      <td> 0</td>\n",
        "    </tr>\n",
        "    <tr>\n",
        "      <th>1</th>\n",
        "      <td> 0</td>\n",
        "      <td> 0</td>\n",
        "      <td> 0</td>\n",
        "      <td> 0</td>\n",
        "      <td> 0</td>\n",
        "      <td> 0</td>\n",
        "      <td> 0</td>\n",
        "      <td> 1</td>\n",
        "      <td> 0</td>\n",
        "      <td> 0</td>\n",
        "      <td> 0</td>\n",
        "    </tr>\n",
        "    <tr>\n",
        "      <th>2</th>\n",
        "      <td> 0</td>\n",
        "      <td> 0</td>\n",
        "      <td> 0</td>\n",
        "      <td> 0</td>\n",
        "      <td> 0</td>\n",
        "      <td> 0</td>\n",
        "      <td> 0</td>\n",
        "      <td> 1</td>\n",
        "      <td> 0</td>\n",
        "      <td> 0</td>\n",
        "      <td> 0</td>\n",
        "    </tr>\n",
        "    <tr>\n",
        "      <th>3</th>\n",
        "      <td> 0</td>\n",
        "      <td> 0</td>\n",
        "      <td> 1</td>\n",
        "      <td> 0</td>\n",
        "      <td> 0</td>\n",
        "      <td> 0</td>\n",
        "      <td> 0</td>\n",
        "      <td> 0</td>\n",
        "      <td> 0</td>\n",
        "      <td> 0</td>\n",
        "      <td> 0</td>\n",
        "    </tr>\n",
        "    <tr>\n",
        "      <th>4</th>\n",
        "      <td> 0</td>\n",
        "      <td> 0</td>\n",
        "      <td> 0</td>\n",
        "      <td> 0</td>\n",
        "      <td> 0</td>\n",
        "      <td> 1</td>\n",
        "      <td> 0</td>\n",
        "      <td> 0</td>\n",
        "      <td> 0</td>\n",
        "      <td> 0</td>\n",
        "      <td> 0</td>\n",
        "    </tr>\n",
        "  </tbody>\n",
        "</table>\n",
        "</div>"
       ],
       "metadata": {},
       "output_type": "pyout",
       "prompt_number": 254,
       "text": [
        "   April  August  December  February  July  June  March  May  November  \\\n",
        "0      0       0         0         0     0     0      0    1         0   \n",
        "1      0       0         0         0     0     0      0    1         0   \n",
        "2      0       0         0         0     0     0      0    1         0   \n",
        "3      0       0         1         0     0     0      0    0         0   \n",
        "4      0       0         0         0     0     1      0    0         0   \n",
        "\n",
        "   October  September  \n",
        "0        0          0  \n",
        "1        0          0  \n",
        "2        0          0  \n",
        "3        0          0  \n",
        "4        0          0  "
       ]
      }
     ],
     "prompt_number": 254
    },
    {
     "cell_type": "code",
     "collapsed": false,
     "input": [
      "tv_final_df = pd.concat([tv_final_df,tv_months], axis=1)"
     ],
     "language": "python",
     "metadata": {},
     "outputs": [],
     "prompt_number": 251
    },
    {
     "cell_type": "code",
     "collapsed": false,
     "input": [
      "tv_final_df['January']=0"
     ],
     "language": "python",
     "metadata": {},
     "outputs": [],
     "prompt_number": 255
    },
    {
     "cell_type": "code",
     "collapsed": false,
     "input": [
      "with open(\"tv_final_pickle.pkl\",\"w\") as picklefile:\n",
      "    pickle.dump(tv_final_df, picklefile)"
     ],
     "language": "python",
     "metadata": {},
     "outputs": [],
     "prompt_number": 290
    },
    {
     "cell_type": "code",
     "collapsed": false,
     "input": [
      "X_tv = tv_final_df[['adj_Buget','o_theater','January','February','March','April','May','June','July','August','September','October','November','December']]\n",
      "Y_tv = tv_final_df['adj_Gross']\n",
      "Xtv =tv_final_df[['adj_Buget']]\n",
      "print projected_gross.score(X_tv,Y_tv), simple_projected_gross.score(Xtv,Y_tv)"
     ],
     "language": "python",
     "metadata": {},
     "outputs": [
      {
       "output_type": "stream",
       "stream": "stdout",
       "text": [
        "-0.08262216049 -0.197747450201\n"
       ]
      }
     ],
     "prompt_number": 268
    },
    {
     "cell_type": "code",
     "collapsed": false,
     "input": [
      "plt.figure(figsize=(10,10))\n",
      "plt.plot(Xtv,Y_tv, 'go', label =\"tv shows turned into movies\")\n",
      "#plt.plot(Xtv, projected_gross.predict(X_tv),'k--')\n",
      "plt.plot(Xtv,simple_tv_model.predict(Xtv),'r--', label =\"tv movies model\")\n",
      "plt.plot(Xtv, simple_projected_gross.predict(Xtv),'b--', label=\"all movies mdoel\")\n",
      "plt.legend()\n",
      "plt.xlabel('adjusted budget in $100 million (2015 dollar)',  size=25)\n",
      "plt.ylabel('adjusted gross in $100 million (2015 dollar)',  size=25)"
     ],
     "language": "python",
     "metadata": {},
     "outputs": [
      {
       "metadata": {},
       "output_type": "pyout",
       "prompt_number": 326,
       "text": [
        "<matplotlib.text.Text at 0x7fe3be27fd10>"
       ]
      },
      {
       "metadata": {},
       "output_type": "display_data",
       "png": "[encoded data removed]",
       "text": [
        "<matplotlib.figure.Figure at 0x7fe3be943890>"
       ]
      }
     ],
     "prompt_number": 326
    },
    {
     "cell_type": "code",
     "collapsed": false,
     "input": [
      "simple_tv_model = LinearRegression()\n",
      "simple_tv_model.fit(Xtv,Y_tv)\n",
      "print 'coefficient:\\t %g' % simple_tv_model.coef_[0]\n",
      "print 'intercept: \\t %g' % simple_tv_model.intercept_\n",
      "print 'R^2:        \\t %g' % simple_tv_model.score(Xtv,Y_tv)"
     ],
     "language": "python",
     "metadata": {},
     "outputs": [
      {
       "output_type": "stream",
       "stream": "stdout",
       "text": [
        "coefficient:\t 0.558407\n",
        "intercept: \t 1.00665e+08\n",
        "R^2:        \t 0.144178\n"
       ]
      }
     ],
     "prompt_number": 272
    },
    {
     "cell_type": "code",
     "collapsed": false,
     "input": [
      "Xtvsm= sm.add_constant(Xtv)\n",
      "simple_linemodel =sm.OLS(Y_tv, Xtvsm).fit()\n",
      "simple_linemodel.summary()"
     ],
     "language": "python",
     "metadata": {},
     "outputs": [
      {
       "html": [
        "<table class=\"simpletable\">\n",
        "<caption>OLS Regression Results</caption>\n",
        "<tr>\n",
        "  <th>Dep. Variable:</th>        <td>adj_Gross</td>    <th>  R-squared:         </th> <td>   0.144</td>\n",
        "</tr>\n",
        "<tr>\n",
        "  <th>Model:</th>                   <td>OLS</td>       <th>  Adj. R-squared:    </th> <td>   0.126</td>\n",
        "</tr>\n",
        "<tr>\n",
        "  <th>Method:</th>             <td>Least Squares</td>  <th>  F-statistic:       </th> <td>   8.086</td>\n",
        "</tr>\n",
        "<tr>\n",
        "  <th>Date:</th>             <td>Wed, 28 Jan 2015</td> <th>  Prob (F-statistic):</th>  <td>0.00653</td>\n",
        "</tr>\n",
        "<tr>\n",
        "  <th>Time:</th>                 <td>21:01:27</td>     <th>  Log-Likelihood:    </th> <td> -978.23</td>\n",
        "</tr>\n",
        "<tr>\n",
        "  <th>No. Observations:</th>      <td>    50</td>      <th>  AIC:               </th> <td>   1960.</td>\n",
        "</tr>\n",
        "<tr>\n",
        "  <th>Df Residuals:</th>          <td>    48</td>      <th>  BIC:               </th> <td>   1964.</td>\n",
        "</tr>\n",
        "<tr>\n",
        "  <th>Df Model:</th>              <td>     1</td>      <th>                     </th>     <td> </td>   \n",
        "</tr>\n",
        "<tr>\n",
        "  <th>Covariance Type:</th>      <td>nonrobust</td>    <th>                     </th>     <td> </td>   \n",
        "</tr>\n",
        "</table>\n",
        "<table class=\"simpletable\">\n",
        "<tr>\n",
        "      <td></td>         <th>coef</th>     <th>std err</th>      <th>t</th>      <th>P>|t|</th> <th>[95.0% Conf. Int.]</th> \n",
        "</tr>\n",
        "<tr>\n",
        "  <th>const</th>     <td> 1.007e+08</td> <td> 1.97e+07</td> <td>    5.123</td> <td> 0.000</td> <td> 6.12e+07   1.4e+08</td>\n",
        "</tr>\n",
        "<tr>\n",
        "  <th>adj_Buget</th> <td>    0.5584</td> <td>    0.196</td> <td>    2.844</td> <td> 0.007</td> <td>    0.164     0.953</td>\n",
        "</tr>\n",
        "</table>\n",
        "<table class=\"simpletable\">\n",
        "<tr>\n",
        "  <th>Omnibus:</th>       <td> 5.404</td> <th>  Durbin-Watson:     </th> <td>   1.061</td>\n",
        "</tr>\n",
        "<tr>\n",
        "  <th>Prob(Omnibus):</th> <td> 0.067</td> <th>  Jarque-Bera (JB):  </th> <td>   4.692</td>\n",
        "</tr>\n",
        "<tr>\n",
        "  <th>Skew:</th>          <td> 0.745</td> <th>  Prob(JB):          </th> <td>  0.0957</td>\n",
        "</tr>\n",
        "<tr>\n",
        "  <th>Kurtosis:</th>      <td> 3.178</td> <th>  Cond. No.          </th> <td>1.79e+08</td>\n",
        "</tr>\n",
        "</table>"
       ],
       "metadata": {},
       "output_type": "pyout",
       "prompt_number": 310,
       "text": [
        "<class 'statsmodels.iolib.summary.Summary'>\n",
        "\"\"\"\n",
        "                            OLS Regression Results                            \n",
        "==============================================================================\n",
        "Dep. Variable:              adj_Gross   R-squared:                       0.144\n",
        "Model:                            OLS   Adj. R-squared:                  0.126\n",
        "Method:                 Least Squares   F-statistic:                     8.086\n",
        "Date:                Wed, 28 Jan 2015   Prob (F-statistic):            0.00653\n",
        "Time:                        21:01:27   Log-Likelihood:                -978.23\n",
        "No. Observations:                  50   AIC:                             1960.\n",
        "Df Residuals:                      48   BIC:                             1964.\n",
        "Df Model:                           1                                         \n",
        "Covariance Type:            nonrobust                                         \n",
        "==============================================================================\n",
        "                 coef    std err          t      P>|t|      [95.0% Conf. Int.]\n",
        "------------------------------------------------------------------------------\n",
        "const       1.007e+08   1.97e+07      5.123      0.000      6.12e+07   1.4e+08\n",
        "adj_Buget      0.5584      0.196      2.844      0.007         0.164     0.953\n",
        "==============================================================================\n",
        "Omnibus:                        5.404   Durbin-Watson:                   1.061\n",
        "Prob(Omnibus):                  0.067   Jarque-Bera (JB):                4.692\n",
        "Skew:                           0.745   Prob(JB):                       0.0957\n",
        "Kurtosis:                       3.178   Cond. No.                     1.79e+08\n",
        "==============================================================================\n",
        "\n",
        "Warnings:\n",
        "[1] Standard Errors assume that the covariance matrix of the errors is correctly specified.\n",
        "[2] The condition number is large, 1.79e+08. This might indicate that there are\n",
        "strong multicollinearity or other numerical problems.\n",
        "\"\"\""
       ]
      }
     ],
     "prompt_number": 310
    },
    {
     "cell_type": "markdown",
     "metadata": {},
     "source": [
      "put in dummy variable for based off tv show. and see if it is significant. then see if an interaction is significant"
     ]
    },
    {
     "cell_type": "code",
     "collapsed": false,
     "input": [],
     "language": "python",
     "metadata": {},
     "outputs": []
    }
   ],
   "metadata": {}
  }
 ]
}